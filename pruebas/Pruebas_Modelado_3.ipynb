{
 "cells": [
  {
   "cell_type": "markdown",
   "id": "87782617-215f-46ab-8c68-659457da6265",
   "metadata": {},
   "source": [
    "Ajuste Fino de Hiperparámetros con GridSearchCV y RandomForest"
   ]
  },
  {
   "cell_type": "code",
   "execution_count": 2,
   "id": "7e91815b-cb53-4eb8-b44e-e2dbd3f2f8c0",
   "metadata": {},
   "outputs": [
    {
     "name": "stderr",
     "output_type": "stream",
     "text": [
      "C:\\Users\\TONAC\\anaconda3\\Lib\\site-packages\\sklearn\\model_selection\\_split.py:737: UserWarning: The least populated class in y has only 4 members, which is less than n_splits=5.\n",
      "  warnings.warn(\n"
     ]
    },
    {
     "name": "stdout",
     "output_type": "stream",
     "text": [
      "Mejores parámetros: {'classifier__max_depth': None, 'classifier__min_samples_leaf': 1, 'classifier__min_samples_split': 2, 'classifier__n_estimators': 200}\n",
      "Random Forest con ajuste fino:\n"
     ]
    },
    {
     "name": "stderr",
     "output_type": "stream",
     "text": [
      "C:\\Users\\TONAC\\anaconda3\\Lib\\site-packages\\sklearn\\metrics\\_classification.py:1509: UndefinedMetricWarning: Precision is ill-defined and being set to 0.0 in labels with no predicted samples. Use `zero_division` parameter to control this behavior.\n",
      "  _warn_prf(average, modifier, f\"{metric.capitalize()} is\", len(result))\n",
      "C:\\Users\\TONAC\\anaconda3\\Lib\\site-packages\\sklearn\\metrics\\_classification.py:1509: UndefinedMetricWarning: Precision is ill-defined and being set to 0.0 in labels with no predicted samples. Use `zero_division` parameter to control this behavior.\n",
      "  _warn_prf(average, modifier, f\"{metric.capitalize()} is\", len(result))\n",
      "C:\\Users\\TONAC\\anaconda3\\Lib\\site-packages\\sklearn\\metrics\\_classification.py:1509: UndefinedMetricWarning: Precision is ill-defined and being set to 0.0 in labels with no predicted samples. Use `zero_division` parameter to control this behavior.\n",
      "  _warn_prf(average, modifier, f\"{metric.capitalize()} is\", len(result))\n"
     ]
    },
    {
     "name": "stdout",
     "output_type": "stream",
     "text": [
      "                          precision    recall  f1-score   support\n",
      "\n",
      "          Administrative       0.67      0.06      0.11       128\n",
      "      Alcohol Violations       1.00      0.03      0.05        38\n",
      "           Drug Offenses       0.59      0.79      0.67      3916\n",
      "Environmental Violations       0.00      0.00      0.00         3\n",
      "                   Fraud       0.00      0.00      0.00         8\n",
      "          Investigations       0.71      0.23      0.34       443\n",
      "  Obstruction of Justice       1.00      0.07      0.12        15\n",
      "                   Other       0.71      0.90      0.79     11750\n",
      "         Property Crimes       0.55      0.14      0.22      2061\n",
      "     Public Order Crimes       0.57      0.12      0.20       265\n",
      "                 Robbery       0.68      0.08      0.14       386\n",
      "              Sex Crimes       0.54      0.40      0.46       200\n",
      "      Traffic Violations       0.00      0.00      0.00        12\n",
      "          Violent Crimes       0.45      0.15      0.23      2853\n",
      "      Weapons Violations       0.90      0.09      0.16       105\n",
      "\n",
      "                accuracy                           0.66     22183\n",
      "               macro avg       0.56      0.20      0.23     22183\n",
      "            weighted avg       0.64      0.66      0.61     22183\n",
      "\n",
      "[[    8     0    61     0     0     3     0    38     5     1     0     2\n",
      "      0    10     0]\n",
      " [    1     1    16     0     0     0     0    16     1     0     0     0\n",
      "      0     3     0]\n",
      " [    1     0  3094     0     0    13     0   621    48     2     3    29\n",
      "      0   105     0]\n",
      " [    0     0     1     0     0     0     0     0     0     1     1     0\n",
      "      0     0     0]\n",
      " [    0     0     3     0     0     0     0     4     1     0     0     0\n",
      "      0     0     0]\n",
      " [    1     0   213     0     0   100     0    91     5     0     0     9\n",
      "      0    24     0]\n",
      " [    0     0     6     0     0     0     1     4     0     0     0     0\n",
      "      0     4     0]\n",
      " [    0     0   782     0     0     8     0 10626    91     6     5    16\n",
      "      0   215     1]\n",
      " [    0     0   414     0     0     6     0  1234   281     4     3     6\n",
      "      0   113     0]\n",
      " [    0     0   101     0     0     0     0    83     7    33     0     0\n",
      "      0    41     0]\n",
      " [    0     0    60     0     0     1     0   269    12     0    30     1\n",
      "      0    13     0]\n",
      " [    0     0    51     0     0     2     0    52     4     0     1    79\n",
      "      0    11     0]\n",
      " [    0     0     5     0     0     0     0     7     0     0     0     0\n",
      "      0     0     0]\n",
      " [    1     0   446     0     0     8     0  1896    51    10     1     4\n",
      "      0   436     0]\n",
      " [    0     0    23     0     0     0     0    70     1     1     0     0\n",
      "      0     1     9]]\n"
     ]
    }
   ],
   "source": [
    "import pandas as pd\n",
    "import numpy as np\n",
    "from sklearn.model_selection import train_test_split, GridSearchCV\n",
    "from sklearn.preprocessing import StandardScaler, OneHotEncoder\n",
    "from sklearn.compose import ColumnTransformer\n",
    "from sklearn.pipeline import Pipeline\n",
    "from sklearn.ensemble import RandomForestClassifier\n",
    "from sklearn.metrics import classification_report, confusion_matrix\n",
    "\n",
    "# Cargar el dataset\n",
    "df = pd.read_csv('New_BPD.csv')\n",
    "\n",
    "# Limpieza de datos\n",
    "df.drop_duplicates(inplace=True)\n",
    "df.dropna(inplace=True)\n",
    "\n",
    "# Selección de características y etiquetas\n",
    "X = df.drop('OffenseCategory', axis=1)\n",
    "y = df['OffenseCategory']\n",
    "\n",
    "# Identificar características numéricas y categóricas\n",
    "numeric_features = ['Age', 'Year', 'Month', 'DayOfWeek', 'Hour', 'Latitude', 'Longitude']\n",
    "categorical_features = ['Sex', 'Race', 'District']\n",
    "\n",
    "# Crear el preprocesador con escalamiento y codificación\n",
    "preprocessor = ColumnTransformer(\n",
    "    transformers=[\n",
    "        ('num', StandardScaler(), numeric_features),\n",
    "        ('cat', OneHotEncoder(), categorical_features)\n",
    "    ]\n",
    ")\n",
    "\n",
    "# Crear el pipeline con preprocesamiento y RandomForest\n",
    "pipeline = Pipeline(steps=[\n",
    "    ('preprocessor', preprocessor),\n",
    "    ('classifier', RandomForestClassifier(random_state=42))\n",
    "])\n",
    "\n",
    "# Dividir los datos en conjuntos de entrenamiento y prueba\n",
    "X_train, X_test, y_train, y_test = train_test_split(X, y, test_size=0.3, random_state=42)\n",
    "\n",
    "# Ajustar los hiperparámetros usando GridSearchCV\n",
    "param_grid = {\n",
    "    'classifier__n_estimators': [50, 100, 150, 200],\n",
    "    'classifier__max_depth': [None, 10, 20, 30],\n",
    "    'classifier__min_samples_split': [2, 5, 10],\n",
    "    'classifier__min_samples_leaf': [1, 2, 4]\n",
    "}\n",
    "grid_search = GridSearchCV(pipeline, param_grid, cv=5, scoring='accuracy', n_jobs=-1)\n",
    "grid_search.fit(X_train, y_train)\n",
    "\n",
    "print(f\"Mejores parámetros: {grid_search.best_params_}\")\n",
    "\n",
    "# Evaluar el modelo con el mejor ajuste\n",
    "y_pred = grid_search.predict(X_test)\n",
    "print(\"Random Forest con ajuste fino:\")\n",
    "print(classification_report(y_test, y_pred))\n",
    "print(confusion_matrix(y_test, y_pred))\n",
    "\n"
   ]
  },
  {
   "cell_type": "markdown",
   "id": "ce506514-13e1-4727-a84a-9252b0f9dbcf",
   "metadata": {},
   "source": [
    "XGBoost"
   ]
  },
  {
   "cell_type": "code",
   "execution_count": 4,
   "id": "a6c030b7-6613-4c5f-bd87-0c5e38b16004",
   "metadata": {},
   "outputs": [
    {
     "name": "stderr",
     "output_type": "stream",
     "text": [
      "C:\\Users\\TONAC\\anaconda3\\Lib\\site-packages\\sklearn\\model_selection\\_split.py:737: UserWarning: The least populated class in y has only 4 members, which is less than n_splits=5.\n",
      "  warnings.warn(\n"
     ]
    },
    {
     "ename": "ValueError",
     "evalue": "\nAll the 135 fits failed.\nIt is very likely that your model is misconfigured.\nYou can try to debug the error by setting error_score='raise'.\n\nBelow are more details about the failures:\n--------------------------------------------------------------------------------\n135 fits failed with the following error:\nTraceback (most recent call last):\n  File \"C:\\Users\\TONAC\\anaconda3\\Lib\\site-packages\\sklearn\\model_selection\\_validation.py\", line 895, in _fit_and_score\n    estimator.fit(X_train, y_train, **fit_params)\n  File \"C:\\Users\\TONAC\\anaconda3\\Lib\\site-packages\\sklearn\\base.py\", line 1474, in wrapper\n    return fit_method(estimator, *args, **kwargs)\n           ^^^^^^^^^^^^^^^^^^^^^^^^^^^^^^^^^^^^^^\n  File \"C:\\Users\\TONAC\\anaconda3\\Lib\\site-packages\\imblearn\\pipeline.py\", line 333, in fit\n    self._final_estimator.fit(Xt, yt, **last_step_params[\"fit\"])\n  File \"C:\\Users\\TONAC\\anaconda3\\Lib\\site-packages\\xgboost\\core.py\", line 726, in inner_f\n    return func(**kwargs)\n           ^^^^^^^^^^^^^^\n  File \"C:\\Users\\TONAC\\anaconda3\\Lib\\site-packages\\xgboost\\sklearn.py\", line 1491, in fit\n    raise ValueError(\nValueError: Invalid classes inferred from unique values of `y`.  Expected: [ 0  1  2  3  4  5  6  7  8  9 10 11 12 13 14], got ['Administrative' 'Alcohol Violations' 'Drug Offenses'\n 'Environmental Violations' 'Fraud' 'Investigations'\n 'Obstruction of Justice' 'Other' 'Property Crimes' 'Public Order Crimes'\n 'Robbery' 'Sex Crimes' 'Traffic Violations' 'Violent Crimes'\n 'Weapons Violations']\n",
     "output_type": "error",
     "traceback": [
      "\u001b[1;31m---------------------------------------------------------------------------\u001b[0m",
      "\u001b[1;31mValueError\u001b[0m                                Traceback (most recent call last)",
      "Cell \u001b[1;32mIn[4], line 28\u001b[0m\n\u001b[0;32m     22\u001b[0m param_grid \u001b[38;5;241m=\u001b[39m {\n\u001b[0;32m     23\u001b[0m     \u001b[38;5;124m'\u001b[39m\u001b[38;5;124mclassifier__n_estimators\u001b[39m\u001b[38;5;124m'\u001b[39m: [\u001b[38;5;241m50\u001b[39m, \u001b[38;5;241m100\u001b[39m, \u001b[38;5;241m150\u001b[39m],\n\u001b[0;32m     24\u001b[0m     \u001b[38;5;124m'\u001b[39m\u001b[38;5;124mclassifier__max_depth\u001b[39m\u001b[38;5;124m'\u001b[39m: [\u001b[38;5;241m3\u001b[39m, \u001b[38;5;241m6\u001b[39m, \u001b[38;5;241m10\u001b[39m],\n\u001b[0;32m     25\u001b[0m     \u001b[38;5;124m'\u001b[39m\u001b[38;5;124mclassifier__learning_rate\u001b[39m\u001b[38;5;124m'\u001b[39m: [\u001b[38;5;241m0.01\u001b[39m, \u001b[38;5;241m0.1\u001b[39m, \u001b[38;5;241m0.2\u001b[39m]\n\u001b[0;32m     26\u001b[0m }\n\u001b[0;32m     27\u001b[0m grid_search \u001b[38;5;241m=\u001b[39m GridSearchCV(pipeline, param_grid, cv\u001b[38;5;241m=\u001b[39m\u001b[38;5;241m5\u001b[39m, scoring\u001b[38;5;241m=\u001b[39m\u001b[38;5;124m'\u001b[39m\u001b[38;5;124maccuracy\u001b[39m\u001b[38;5;124m'\u001b[39m, n_jobs\u001b[38;5;241m=\u001b[39m\u001b[38;5;241m-\u001b[39m\u001b[38;5;241m1\u001b[39m)\n\u001b[1;32m---> 28\u001b[0m grid_search\u001b[38;5;241m.\u001b[39mfit(X_train, y_train)\n\u001b[0;32m     30\u001b[0m \u001b[38;5;28mprint\u001b[39m(\u001b[38;5;124mf\u001b[39m\u001b[38;5;124m\"\u001b[39m\u001b[38;5;124mMejores parámetros: \u001b[39m\u001b[38;5;132;01m{\u001b[39;00mgrid_search\u001b[38;5;241m.\u001b[39mbest_params_\u001b[38;5;132;01m}\u001b[39;00m\u001b[38;5;124m\"\u001b[39m)\n\u001b[0;32m     32\u001b[0m \u001b[38;5;66;03m# Evaluar el modelo con el mejor ajuste\u001b[39;00m\n",
      "File \u001b[1;32m~\\anaconda3\\Lib\\site-packages\\sklearn\\base.py:1474\u001b[0m, in \u001b[0;36m_fit_context.<locals>.decorator.<locals>.wrapper\u001b[1;34m(estimator, *args, **kwargs)\u001b[0m\n\u001b[0;32m   1467\u001b[0m     estimator\u001b[38;5;241m.\u001b[39m_validate_params()\n\u001b[0;32m   1469\u001b[0m \u001b[38;5;28;01mwith\u001b[39;00m config_context(\n\u001b[0;32m   1470\u001b[0m     skip_parameter_validation\u001b[38;5;241m=\u001b[39m(\n\u001b[0;32m   1471\u001b[0m         prefer_skip_nested_validation \u001b[38;5;129;01mor\u001b[39;00m global_skip_validation\n\u001b[0;32m   1472\u001b[0m     )\n\u001b[0;32m   1473\u001b[0m ):\n\u001b[1;32m-> 1474\u001b[0m     \u001b[38;5;28;01mreturn\u001b[39;00m fit_method(estimator, \u001b[38;5;241m*\u001b[39margs, \u001b[38;5;241m*\u001b[39m\u001b[38;5;241m*\u001b[39mkwargs)\n",
      "File \u001b[1;32m~\\anaconda3\\Lib\\site-packages\\sklearn\\model_selection\\_search.py:970\u001b[0m, in \u001b[0;36mBaseSearchCV.fit\u001b[1;34m(self, X, y, **params)\u001b[0m\n\u001b[0;32m    964\u001b[0m     results \u001b[38;5;241m=\u001b[39m \u001b[38;5;28mself\u001b[39m\u001b[38;5;241m.\u001b[39m_format_results(\n\u001b[0;32m    965\u001b[0m         all_candidate_params, n_splits, all_out, all_more_results\n\u001b[0;32m    966\u001b[0m     )\n\u001b[0;32m    968\u001b[0m     \u001b[38;5;28;01mreturn\u001b[39;00m results\n\u001b[1;32m--> 970\u001b[0m \u001b[38;5;28mself\u001b[39m\u001b[38;5;241m.\u001b[39m_run_search(evaluate_candidates)\n\u001b[0;32m    972\u001b[0m \u001b[38;5;66;03m# multimetric is determined here because in the case of a callable\u001b[39;00m\n\u001b[0;32m    973\u001b[0m \u001b[38;5;66;03m# self.scoring the return type is only known after calling\u001b[39;00m\n\u001b[0;32m    974\u001b[0m first_test_score \u001b[38;5;241m=\u001b[39m all_out[\u001b[38;5;241m0\u001b[39m][\u001b[38;5;124m\"\u001b[39m\u001b[38;5;124mtest_scores\u001b[39m\u001b[38;5;124m\"\u001b[39m]\n",
      "File \u001b[1;32m~\\anaconda3\\Lib\\site-packages\\sklearn\\model_selection\\_search.py:1527\u001b[0m, in \u001b[0;36mGridSearchCV._run_search\u001b[1;34m(self, evaluate_candidates)\u001b[0m\n\u001b[0;32m   1525\u001b[0m \u001b[38;5;28;01mdef\u001b[39;00m \u001b[38;5;21m_run_search\u001b[39m(\u001b[38;5;28mself\u001b[39m, evaluate_candidates):\n\u001b[0;32m   1526\u001b[0m \u001b[38;5;250m    \u001b[39m\u001b[38;5;124;03m\"\"\"Search all candidates in param_grid\"\"\"\u001b[39;00m\n\u001b[1;32m-> 1527\u001b[0m     evaluate_candidates(ParameterGrid(\u001b[38;5;28mself\u001b[39m\u001b[38;5;241m.\u001b[39mparam_grid))\n",
      "File \u001b[1;32m~\\anaconda3\\Lib\\site-packages\\sklearn\\model_selection\\_search.py:947\u001b[0m, in \u001b[0;36mBaseSearchCV.fit.<locals>.evaluate_candidates\u001b[1;34m(candidate_params, cv, more_results)\u001b[0m\n\u001b[0;32m    940\u001b[0m \u001b[38;5;28;01melif\u001b[39;00m \u001b[38;5;28mlen\u001b[39m(out) \u001b[38;5;241m!=\u001b[39m n_candidates \u001b[38;5;241m*\u001b[39m n_splits:\n\u001b[0;32m    941\u001b[0m     \u001b[38;5;28;01mraise\u001b[39;00m \u001b[38;5;167;01mValueError\u001b[39;00m(\n\u001b[0;32m    942\u001b[0m         \u001b[38;5;124m\"\u001b[39m\u001b[38;5;124mcv.split and cv.get_n_splits returned \u001b[39m\u001b[38;5;124m\"\u001b[39m\n\u001b[0;32m    943\u001b[0m         \u001b[38;5;124m\"\u001b[39m\u001b[38;5;124minconsistent results. Expected \u001b[39m\u001b[38;5;132;01m{}\u001b[39;00m\u001b[38;5;124m \u001b[39m\u001b[38;5;124m\"\u001b[39m\n\u001b[0;32m    944\u001b[0m         \u001b[38;5;124m\"\u001b[39m\u001b[38;5;124msplits, got \u001b[39m\u001b[38;5;132;01m{}\u001b[39;00m\u001b[38;5;124m\"\u001b[39m\u001b[38;5;241m.\u001b[39mformat(n_splits, \u001b[38;5;28mlen\u001b[39m(out) \u001b[38;5;241m/\u001b[39m\u001b[38;5;241m/\u001b[39m n_candidates)\n\u001b[0;32m    945\u001b[0m     )\n\u001b[1;32m--> 947\u001b[0m _warn_or_raise_about_fit_failures(out, \u001b[38;5;28mself\u001b[39m\u001b[38;5;241m.\u001b[39merror_score)\n\u001b[0;32m    949\u001b[0m \u001b[38;5;66;03m# For callable self.scoring, the return type is only know after\u001b[39;00m\n\u001b[0;32m    950\u001b[0m \u001b[38;5;66;03m# calling. If the return type is a dictionary, the error scores\u001b[39;00m\n\u001b[0;32m    951\u001b[0m \u001b[38;5;66;03m# can now be inserted with the correct key. The type checking\u001b[39;00m\n\u001b[0;32m    952\u001b[0m \u001b[38;5;66;03m# of out will be done in `_insert_error_scores`.\u001b[39;00m\n\u001b[0;32m    953\u001b[0m \u001b[38;5;28;01mif\u001b[39;00m \u001b[38;5;28mcallable\u001b[39m(\u001b[38;5;28mself\u001b[39m\u001b[38;5;241m.\u001b[39mscoring):\n",
      "File \u001b[1;32m~\\anaconda3\\Lib\\site-packages\\sklearn\\model_selection\\_validation.py:536\u001b[0m, in \u001b[0;36m_warn_or_raise_about_fit_failures\u001b[1;34m(results, error_score)\u001b[0m\n\u001b[0;32m    529\u001b[0m \u001b[38;5;28;01mif\u001b[39;00m num_failed_fits \u001b[38;5;241m==\u001b[39m num_fits:\n\u001b[0;32m    530\u001b[0m     all_fits_failed_message \u001b[38;5;241m=\u001b[39m (\n\u001b[0;32m    531\u001b[0m         \u001b[38;5;124mf\u001b[39m\u001b[38;5;124m\"\u001b[39m\u001b[38;5;130;01m\\n\u001b[39;00m\u001b[38;5;124mAll the \u001b[39m\u001b[38;5;132;01m{\u001b[39;00mnum_fits\u001b[38;5;132;01m}\u001b[39;00m\u001b[38;5;124m fits failed.\u001b[39m\u001b[38;5;130;01m\\n\u001b[39;00m\u001b[38;5;124m\"\u001b[39m\n\u001b[0;32m    532\u001b[0m         \u001b[38;5;124m\"\u001b[39m\u001b[38;5;124mIt is very likely that your model is misconfigured.\u001b[39m\u001b[38;5;130;01m\\n\u001b[39;00m\u001b[38;5;124m\"\u001b[39m\n\u001b[0;32m    533\u001b[0m         \u001b[38;5;124m\"\u001b[39m\u001b[38;5;124mYou can try to debug the error by setting error_score=\u001b[39m\u001b[38;5;124m'\u001b[39m\u001b[38;5;124mraise\u001b[39m\u001b[38;5;124m'\u001b[39m\u001b[38;5;124m.\u001b[39m\u001b[38;5;130;01m\\n\u001b[39;00m\u001b[38;5;130;01m\\n\u001b[39;00m\u001b[38;5;124m\"\u001b[39m\n\u001b[0;32m    534\u001b[0m         \u001b[38;5;124mf\u001b[39m\u001b[38;5;124m\"\u001b[39m\u001b[38;5;124mBelow are more details about the failures:\u001b[39m\u001b[38;5;130;01m\\n\u001b[39;00m\u001b[38;5;132;01m{\u001b[39;00mfit_errors_summary\u001b[38;5;132;01m}\u001b[39;00m\u001b[38;5;124m\"\u001b[39m\n\u001b[0;32m    535\u001b[0m     )\n\u001b[1;32m--> 536\u001b[0m     \u001b[38;5;28;01mraise\u001b[39;00m \u001b[38;5;167;01mValueError\u001b[39;00m(all_fits_failed_message)\n\u001b[0;32m    538\u001b[0m \u001b[38;5;28;01melse\u001b[39;00m:\n\u001b[0;32m    539\u001b[0m     some_fits_failed_message \u001b[38;5;241m=\u001b[39m (\n\u001b[0;32m    540\u001b[0m         \u001b[38;5;124mf\u001b[39m\u001b[38;5;124m\"\u001b[39m\u001b[38;5;130;01m\\n\u001b[39;00m\u001b[38;5;132;01m{\u001b[39;00mnum_failed_fits\u001b[38;5;132;01m}\u001b[39;00m\u001b[38;5;124m fits failed out of a total of \u001b[39m\u001b[38;5;132;01m{\u001b[39;00mnum_fits\u001b[38;5;132;01m}\u001b[39;00m\u001b[38;5;124m.\u001b[39m\u001b[38;5;130;01m\\n\u001b[39;00m\u001b[38;5;124m\"\u001b[39m\n\u001b[0;32m    541\u001b[0m         \u001b[38;5;124m\"\u001b[39m\u001b[38;5;124mThe score on these train-test partitions for these parameters\u001b[39m\u001b[38;5;124m\"\u001b[39m\n\u001b[1;32m   (...)\u001b[0m\n\u001b[0;32m    545\u001b[0m         \u001b[38;5;124mf\u001b[39m\u001b[38;5;124m\"\u001b[39m\u001b[38;5;124mBelow are more details about the failures:\u001b[39m\u001b[38;5;130;01m\\n\u001b[39;00m\u001b[38;5;132;01m{\u001b[39;00mfit_errors_summary\u001b[38;5;132;01m}\u001b[39;00m\u001b[38;5;124m\"\u001b[39m\n\u001b[0;32m    546\u001b[0m     )\n",
      "\u001b[1;31mValueError\u001b[0m: \nAll the 135 fits failed.\nIt is very likely that your model is misconfigured.\nYou can try to debug the error by setting error_score='raise'.\n\nBelow are more details about the failures:\n--------------------------------------------------------------------------------\n135 fits failed with the following error:\nTraceback (most recent call last):\n  File \"C:\\Users\\TONAC\\anaconda3\\Lib\\site-packages\\sklearn\\model_selection\\_validation.py\", line 895, in _fit_and_score\n    estimator.fit(X_train, y_train, **fit_params)\n  File \"C:\\Users\\TONAC\\anaconda3\\Lib\\site-packages\\sklearn\\base.py\", line 1474, in wrapper\n    return fit_method(estimator, *args, **kwargs)\n           ^^^^^^^^^^^^^^^^^^^^^^^^^^^^^^^^^^^^^^\n  File \"C:\\Users\\TONAC\\anaconda3\\Lib\\site-packages\\imblearn\\pipeline.py\", line 333, in fit\n    self._final_estimator.fit(Xt, yt, **last_step_params[\"fit\"])\n  File \"C:\\Users\\TONAC\\anaconda3\\Lib\\site-packages\\xgboost\\core.py\", line 726, in inner_f\n    return func(**kwargs)\n           ^^^^^^^^^^^^^^\n  File \"C:\\Users\\TONAC\\anaconda3\\Lib\\site-packages\\xgboost\\sklearn.py\", line 1491, in fit\n    raise ValueError(\nValueError: Invalid classes inferred from unique values of `y`.  Expected: [ 0  1  2  3  4  5  6  7  8  9 10 11 12 13 14], got ['Administrative' 'Alcohol Violations' 'Drug Offenses'\n 'Environmental Violations' 'Fraud' 'Investigations'\n 'Obstruction of Justice' 'Other' 'Property Crimes' 'Public Order Crimes'\n 'Robbery' 'Sex Crimes' 'Traffic Violations' 'Violent Crimes'\n 'Weapons Violations']\n"
     ]
    }
   ],
   "source": [
    "import xgboost as xgb\n",
    "from imblearn.pipeline import Pipeline as ImbPipeline\n",
    "\n",
    "# Crear el preprocesador\n",
    "preprocessor = ColumnTransformer(\n",
    "    transformers=[\n",
    "        ('num', StandardScaler(), numeric_features),\n",
    "        ('cat', OneHotEncoder(), categorical_features)\n",
    "    ]\n",
    ")\n",
    "\n",
    "# Crear el pipeline con XGBoost\n",
    "pipeline = ImbPipeline(steps=[\n",
    "    ('preprocessor', preprocessor),\n",
    "    ('classifier', xgb.XGBClassifier(random_state=42, eval_metric='mlogloss'))\n",
    "])\n",
    "\n",
    "# Dividir los datos en conjuntos de entrenamiento y prueba\n",
    "X_train, X_test, y_train, y_test = train_test_split(X, y, test_size=0.3, random_state=42)\n",
    "\n",
    "# Ajustar los hiperparámetros usando GridSearchCV\n",
    "param_grid = {\n",
    "    'classifier__n_estimators': [50, 100, 150],\n",
    "    'classifier__max_depth': [3, 6, 10],\n",
    "    'classifier__learning_rate': [0.01, 0.1, 0.2]\n",
    "}\n",
    "grid_search = GridSearchCV(pipeline, param_grid, cv=5, scoring='accuracy', n_jobs=-1)\n",
    "grid_search.fit(X_train, y_train)\n",
    "\n",
    "print(f\"Mejores parámetros: {grid_search.best_params_}\")\n",
    "\n",
    "# Evaluar el modelo con el mejor ajuste\n",
    "y_pred = grid_search.predict(X_test)\n",
    "print(\"XGBoost:\")\n",
    "print(classification_report(y_test, y_pred))\n",
    "print(confusion_matrix(y_test, y_pred))\n"
   ]
  },
  {
   "cell_type": "markdown",
   "id": "34263863-d197-4762-bb2b-e37be101a167",
   "metadata": {},
   "source": [
    "Combinar Modelos"
   ]
  },
  {
   "cell_type": "code",
   "execution_count": 8,
   "id": "430a0563-f699-4966-a82b-4ef529eb0927",
   "metadata": {},
   "outputs": [
    {
     "name": "stdout",
     "output_type": "stream",
     "text": [
      "Ensemble de modelos:\n"
     ]
    },
    {
     "name": "stderr",
     "output_type": "stream",
     "text": [
      "C:\\Users\\TONAC\\anaconda3\\Lib\\site-packages\\sklearn\\metrics\\_classification.py:1509: UndefinedMetricWarning: Precision is ill-defined and being set to 0.0 in labels with no predicted samples. Use `zero_division` parameter to control this behavior.\n",
      "  _warn_prf(average, modifier, f\"{metric.capitalize()} is\", len(result))\n"
     ]
    },
    {
     "name": "stdout",
     "output_type": "stream",
     "text": [
      "                          precision    recall  f1-score   support\n",
      "\n",
      "          Administrative       0.88      0.05      0.10       128\n",
      "      Alcohol Violations       1.00      0.03      0.05        38\n",
      "           Drug Offenses       0.57      0.81      0.67      3916\n",
      "Environmental Violations       0.00      0.00      0.00         3\n",
      "                   Fraud       0.00      0.00      0.00         8\n",
      "          Investigations       0.62      0.18      0.28       443\n",
      "  Obstruction of Justice       1.00      0.13      0.24        15\n",
      "                   Other       0.71      0.91      0.79     11750\n",
      "         Property Crimes       0.64      0.13      0.22      2061\n",
      "     Public Order Crimes       0.57      0.09      0.16       265\n",
      "                 Robbery       0.48      0.03      0.05       386\n",
      "              Sex Crimes       0.62      0.43      0.51       200\n",
      "      Traffic Violations       0.00      0.00      0.00        12\n",
      "          Violent Crimes       0.45      0.12      0.20      2853\n",
      "      Weapons Violations       1.00      0.04      0.07       105\n",
      "\n",
      "                accuracy                           0.66     22183\n",
      "               macro avg       0.57      0.20      0.22     22183\n",
      "            weighted avg       0.64      0.66      0.60     22183\n",
      "\n",
      "[[    7     0    67     0     0     4     0    38     1     0     0     0\n",
      "      0    11     0]\n",
      " [    0     1    17     0     0     0     0    18     1     0     0     0\n",
      "      0     1     0]\n",
      " [    0     0  3179     0     0    12     0   601    29     1     2    18\n",
      "      0    74     0]\n",
      " [    0     0     1     0     0     0     0     2     0     0     0     0\n",
      "      0     0     0]\n",
      " [    0     0     1     0     0     0     0     3     4     0     0     0\n",
      "      0     0     0]\n",
      " [    1     0   241     0     0    80     0    96     5     0     0     7\n",
      "      0    13     0]\n",
      " [    0     0     6     0     0     0     2     4     0     0     0     0\n",
      "      0     3     0]\n",
      " [    0     0   833     0     0     9     0 10640    63    10     5    18\n",
      "      0   172     0]\n",
      " [    0     0   450     0     0     3     0  1232   276     1     2     5\n",
      "      0    92     0]\n",
      " [    0     0   115     0     0     0     0    85     5    25     0     0\n",
      "      0    35     0]\n",
      " [    0     0    70     0     0     1     0   281    10     0    11     0\n",
      "      0    13     0]\n",
      " [    0     0    52     0     0     5     0    40     4     0     0    86\n",
      "      0    13     0]\n",
      " [    0     0     7     0     0     0     0     4     0     1     0     0\n",
      "      0     0     0]\n",
      " [    0     0   484     0     0    14     0  1952    34     6     2     5\n",
      "      0   356     0]\n",
      " [    0     0    24     0     0     0     0    75     0     0     1     0\n",
      "      0     1     4]]\n"
     ]
    },
    {
     "name": "stderr",
     "output_type": "stream",
     "text": [
      "C:\\Users\\TONAC\\anaconda3\\Lib\\site-packages\\sklearn\\metrics\\_classification.py:1509: UndefinedMetricWarning: Precision is ill-defined and being set to 0.0 in labels with no predicted samples. Use `zero_division` parameter to control this behavior.\n",
      "  _warn_prf(average, modifier, f\"{metric.capitalize()} is\", len(result))\n",
      "C:\\Users\\TONAC\\anaconda3\\Lib\\site-packages\\sklearn\\metrics\\_classification.py:1509: UndefinedMetricWarning: Precision is ill-defined and being set to 0.0 in labels with no predicted samples. Use `zero_division` parameter to control this behavior.\n",
      "  _warn_prf(average, modifier, f\"{metric.capitalize()} is\", len(result))\n"
     ]
    }
   ],
   "source": [
    "from sklearn.ensemble import VotingClassifier\n",
    "\n",
    "# Crear los modelos\n",
    "rf_model = RandomForestClassifier(random_state=42, class_weight='balanced')\n",
    "xgb_model = xgb.XGBClassifier(random_state=42, eval_metric='mlogloss')\n",
    "\n",
    "# Crear el preprocesador\n",
    "preprocessor = ColumnTransformer(\n",
    "    transformers=[\n",
    "        ('num', StandardScaler(), numeric_features),\n",
    "        ('cat', OneHotEncoder(), categorical_features)\n",
    "    ]\n",
    ")\n",
    "\n",
    "# Crear el ensemble de modelos\n",
    "voting_clf = VotingClassifier(estimators=[\n",
    "    ('rf', rf_model),\n",
    "    ('xgb', xgb_model)\n",
    "], voting='soft')\n",
    "\n",
    "# Crear el pipeline\n",
    "pipeline = Pipeline(steps=[\n",
    "    ('preprocessor', preprocessor),\n",
    "    ('classifier', voting_clf)\n",
    "])\n",
    "\n",
    "# Dividir los datos en conjuntos de entrenamiento y prueba\n",
    "X_train, X_test, y_train, y_test = train_test_split(X, y, test_size=0.3, random_state=42)\n",
    "\n",
    "# Ajustar y evaluar el modelo\n",
    "pipeline.fit(X_train, y_train)\n",
    "y_pred = pipeline.predict(X_test)\n",
    "print(\"Ensemble de modelos:\")\n",
    "print(classification_report(y_test, y_pred))\n",
    "print(confusion_matrix(y_test, y_pred))\n"
   ]
  },
  {
   "cell_type": "markdown",
   "id": "1bdbf55d-b070-44e3-9571-a0fa3b9c2ce1",
   "metadata": {},
   "source": [
    "Reducción de Dimensionalidad con PCA"
   ]
  },
  {
   "cell_type": "code",
   "execution_count": 10,
   "id": "e043588f-9b8c-4796-9a04-ba6a95aeab60",
   "metadata": {},
   "outputs": [
    {
     "name": "stdout",
     "output_type": "stream",
     "text": [
      "Random Forest con PCA:\n"
     ]
    },
    {
     "name": "stderr",
     "output_type": "stream",
     "text": [
      "C:\\Users\\TONAC\\anaconda3\\Lib\\site-packages\\sklearn\\metrics\\_classification.py:1509: UndefinedMetricWarning: Precision is ill-defined and being set to 0.0 in labels with no predicted samples. Use `zero_division` parameter to control this behavior.\n",
      "  _warn_prf(average, modifier, f\"{metric.capitalize()} is\", len(result))\n"
     ]
    },
    {
     "name": "stdout",
     "output_type": "stream",
     "text": [
      "                          precision    recall  f1-score   support\n",
      "\n",
      "          Administrative       0.60      0.02      0.05       128\n",
      "      Alcohol Violations       1.00      0.03      0.05        38\n",
      "           Drug Offenses       0.54      0.76      0.63      3916\n",
      "Environmental Violations       0.00      0.00      0.00         3\n",
      "                   Fraud       0.00      0.00      0.00         8\n",
      "          Investigations       0.53      0.12      0.20       443\n",
      "  Obstruction of Justice       0.00      0.00      0.00        15\n",
      "                   Other       0.69      0.89      0.78     11750\n",
      "         Property Crimes       0.43      0.06      0.11      2061\n",
      "     Public Order Crimes       0.58      0.08      0.15       265\n",
      "                 Robbery       0.70      0.04      0.08       386\n",
      "              Sex Crimes       0.37      0.16      0.22       200\n",
      "      Traffic Violations       0.00      0.00      0.00        12\n",
      "          Violent Crimes       0.37      0.10      0.16      2853\n",
      "      Weapons Violations       0.33      0.01      0.02       105\n",
      "\n",
      "                accuracy                           0.63     22183\n",
      "               macro avg       0.41      0.15      0.16     22183\n",
      "            weighted avg       0.59      0.63      0.56     22183\n",
      "\n",
      "[[    3     0    65     0     0     3     0    45     3     0     0     1\n",
      "      0     8     0]\n",
      " [    0     1    14     0     0     0     0    18     0     0     0     0\n",
      "      0     5     0]\n",
      " [    0     0  2985     0     0    12     0   756    40     1     2    22\n",
      "      0    98     0]\n",
      " [    0     0     0     0     0     0     0     1     0     0     1     0\n",
      "      0     1     0]\n",
      " [    0     0     5     0     0     0     0     3     0     0     0     0\n",
      "      0     0     0]\n",
      " [    1     0   250     0     0    54     0   107     5     0     0     6\n",
      "      0    20     0]\n",
      " [    0     0     8     0     0     0     0     5     0     0     0     0\n",
      "      0     2     0]\n",
      " [    0     0   947     0     0    14     0 10491    56     6     1    17\n",
      "      0   218     0]\n",
      " [    1     0   484     0     0     4     0  1339   124     2     2     4\n",
      "      0   100     1]\n",
      " [    0     0   106     0     0     0     0   100     7    22     0     0\n",
      "      0    29     1]\n",
      " [    0     0    67     0     0     0     0   284     8     0    16     0\n",
      "      0    11     0]\n",
      " [    0     0    87     0     0     5     0    56     3     0     1    32\n",
      "      0    16     0]\n",
      " [    0     0     6     0     0     0     0     6     0     0     0     0\n",
      "      0     0     0]\n",
      " [    0     0   489     0     0    10     0  2006    41     7     0     5\n",
      "      0   295     0]\n",
      " [    0     0    24     0     0     0     0    77     1     0     0     0\n",
      "      0     2     1]]\n"
     ]
    },
    {
     "name": "stderr",
     "output_type": "stream",
     "text": [
      "C:\\Users\\TONAC\\anaconda3\\Lib\\site-packages\\sklearn\\metrics\\_classification.py:1509: UndefinedMetricWarning: Precision is ill-defined and being set to 0.0 in labels with no predicted samples. Use `zero_division` parameter to control this behavior.\n",
      "  _warn_prf(average, modifier, f\"{metric.capitalize()} is\", len(result))\n",
      "C:\\Users\\TONAC\\anaconda3\\Lib\\site-packages\\sklearn\\metrics\\_classification.py:1509: UndefinedMetricWarning: Precision is ill-defined and being set to 0.0 in labels with no predicted samples. Use `zero_division` parameter to control this behavior.\n",
      "  _warn_prf(average, modifier, f\"{metric.capitalize()} is\", len(result))\n"
     ]
    }
   ],
   "source": [
    "from sklearn.decomposition import PCA\n",
    "from sklearn.pipeline import Pipeline\n",
    "from sklearn.preprocessing import StandardScaler, OneHotEncoder\n",
    "from sklearn.compose import ColumnTransformer\n",
    "from sklearn.ensemble import RandomForestClassifier\n",
    "from sklearn.model_selection import train_test_split\n",
    "\n",
    "# Crear el preprocesador con PCA\n",
    "preprocessor = Pipeline(steps=[\n",
    "    ('preprocessor', ColumnTransformer(\n",
    "        transformers=[\n",
    "            ('num', StandardScaler(), numeric_features),\n",
    "            ('cat', OneHotEncoder(), categorical_features)\n",
    "        ]\n",
    "    )),\n",
    "    ('pca', PCA(n_components=0.95))  # Mantener el 95% de la varianza\n",
    "])\n",
    "\n",
    "# Crear el pipeline con PCA y RandomForest\n",
    "pipeline = Pipeline(steps=[\n",
    "    ('preprocessor', preprocessor),\n",
    "    ('classifier', RandomForestClassifier(random_state=42))\n",
    "])\n",
    "\n",
    "# Dividir los datos en conjuntos de entrenamiento y prueba\n",
    "X_train, X_test, y_train, y_test = train_test_split(X, y, test_size=0.3, random_state=42)\n",
    "\n",
    "# Ajustar y evaluar el modelo\n",
    "pipeline.fit(X_train, y_train)\n",
    "y_pred = pipeline.predict(X_test)\n",
    "print(\"Random Forest con PCA:\")\n",
    "print(classification_report(y_test, y_pred))\n",
    "print(confusion_matrix(y_test, y_pred))\n",
    "\n"
   ]
  },
  {
   "cell_type": "code",
   "execution_count": null,
   "id": "093f4a5b-ff40-4e39-8254-fc1783778c87",
   "metadata": {},
   "outputs": [],
   "source": []
  }
 ],
 "metadata": {
  "kernelspec": {
   "display_name": "Python 3 (ipykernel)",
   "language": "python",
   "name": "python3"
  },
  "language_info": {
   "codemirror_mode": {
    "name": "ipython",
    "version": 3
   },
   "file_extension": ".py",
   "mimetype": "text/x-python",
   "name": "python",
   "nbconvert_exporter": "python",
   "pygments_lexer": "ipython3",
   "version": "3.11.9"
  }
 },
 "nbformat": 4,
 "nbformat_minor": 5
}
