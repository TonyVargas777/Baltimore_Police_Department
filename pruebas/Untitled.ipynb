{
 "cells": [
  {
   "cell_type": "code",
   "execution_count": 18,
   "id": "bb709d37-54ca-4494-9df3-d92d3c13ddeb",
   "metadata": {},
   "outputs": [],
   "source": [
    "import pandas as pd\n",
    "import numpy as np\n",
    "import matplotlib.pyplot as plt\n",
    "import plotly.express as px\n",
    "import seaborn as sns\n",
    "import geopandas as gpd\n",
    "from imblearn.over_sampling import SMOTE\n",
    "from sklearn.model_selection import train_test_split\n",
    "from sklearn.model_selection import GridSearchCV\n",
    "from sklearn.ensemble import RandomForestClassifier\n",
    "from sklearn.ensemble import RandomForestRegressor\n",
    "from sklearn.metrics import mean_squared_error, r2_score\n",
    "from sklearn.metrics import classification_report\n",
    "from sklearn.preprocessing import StandardScaler\n",
    "import warnings\n",
    "warnings.filterwarnings(\"ignore\")"
   ]
  },
  {
   "cell_type": "code",
   "execution_count": 2,
   "id": "375f5e7b-c885-4591-8b37-6691ccc99569",
   "metadata": {},
   "outputs": [],
   "source": [
    "df = pd.read_csv('New_BPD.csv')"
   ]
  },
  {
   "cell_type": "code",
   "execution_count": 3,
   "id": "9ae2471f-55c5-482e-975b-d686d7857e7e",
   "metadata": {},
   "outputs": [],
   "source": [
    "# INGENIERÍA DE CARACTERÍSTICAS\n",
    "# =============================\n",
    "\n",
    "# Eliminamos filas con valores nulos en columnas clave\n",
    "df_clean = df.dropna(subset=['District', 'Race', 'Age', 'OffenseCategory'])\n",
    "\n",
    "# Convertimos 'District' y 'Race' a variables categóricas\n",
    "df_clean['District'] = df_clean['District'].astype('category').cat.codes\n",
    "df_clean['Race'] = df_clean['Race'].astype('category').cat.codes\n",
    "df_clean['Age'] = df_clean['Age'].astype('category').cat.codes\n",
    "df_clean['OffenseCategory'] = df_clean['OffenseCategory'].astype('category').cat.codes\n",
    "\n",
    "# Seleccionamos las características y la variable objetivo\n",
    "features = ['Year', 'Month', 'DayOfWeek', 'Hour', 'Latitude', 'Longitude']\n",
    "X = df_clean[features]\n",
    "y_district = df_clean['District']\n",
    "y_race = df_clean['Race']\n",
    "y_age = df_clean['Age']\n",
    "y_offense = df_clean['OffenseCategory']"
   ]
  },
  {
   "cell_type": "markdown",
   "id": "5d1ffa44-36ae-41da-a47f-f2829a875c7c",
   "metadata": {},
   "source": [
    "ENTRENAMIENTO Y EVALUACION DE MODELOS:"
   ]
  },
  {
   "cell_type": "code",
   "execution_count": 10,
   "id": "5e9bf5e5-2670-4208-9f61-76446006bade",
   "metadata": {},
   "outputs": [
    {
     "name": "stdout",
     "output_type": "stream",
     "text": [
      "Mean Squared Error for District Prediction: 0.23419783656979018\n",
      "Classification Report for District Prediction\n",
      "              precision    recall  f1-score   support\n",
      "\n",
      "           0       0.99      0.98      0.98      2569\n",
      "           1       1.00      0.99      0.99      3138\n",
      "           2       0.99      1.00      0.99      2568\n",
      "           3       0.99      0.98      0.99      1499\n",
      "           4       0.99      1.00      0.99      2029\n",
      "           5       1.00      1.00      1.00      2840\n",
      "           6       1.00      1.00      1.00      3180\n",
      "           7       0.99      0.98      0.99      2118\n",
      "           8       0.97      0.99      0.98      3078\n",
      "\n",
      "    accuracy                           0.99     23019\n",
      "   macro avg       0.99      0.99      0.99     23019\n",
      "weighted avg       0.99      0.99      0.99     23019\n",
      "\n"
     ]
    }
   ],
   "source": [
    "# Predicción de Distritos\n",
    "\n",
    "# Dividimos los datos en conjuntos de entrenamiento y prueba\n",
    "X_train, X_test, y_train_district, y_test_district = train_test_split(X, y_district, test_size=0.3, random_state=42)\n",
    "\n",
    "# Entrenamos un RandomForestClassifier\n",
    "rf_district = RandomForestClassifier(n_estimators=100, random_state=42)\n",
    "rf_district.fit(X_train, y_train_district)\n",
    "\n",
    "# Realizamos predicciones\n",
    "y_pred_district = rf_district.predict(X_test)\n",
    "\n",
    "# Evaluamos el modelo\n",
    "mse = mean_squared_error(y_test_district, y_pred_district)\n",
    "print(f\"Mean Squared Error for District Prediction: {mse}\")\n",
    "print(\"Classification Report for District Prediction\")\n",
    "print(classification_report(y_test_district, y_pred_district))"
   ]
  },
  {
   "cell_type": "code",
   "execution_count": 12,
   "id": "8c0c7d6b-f7e9-4e74-ba15-20f52550d038",
   "metadata": {},
   "outputs": [
    {
     "name": "stdout",
     "output_type": "stream",
     "text": [
      "Mean Squared Error for Race Prediction: 1.2750336678396108\n",
      "Classification Report for Race Prediction\n",
      "              precision    recall  f1-score   support\n",
      "\n",
      "           0       0.25      0.03      0.06        59\n",
      "           1       0.87      0.95      0.91     19011\n",
      "           2       0.12      0.02      0.03        66\n",
      "           3       0.47      0.13      0.20       515\n",
      "           4       0.54      0.34      0.42      3368\n",
      "\n",
      "    accuracy                           0.84     23019\n",
      "   macro avg       0.45      0.29      0.32     23019\n",
      "weighted avg       0.81      0.84      0.82     23019\n",
      "\n"
     ]
    }
   ],
   "source": [
    "# Predicción de Raza\n",
    "\n",
    "# Dividimos los datos en conjuntos de entrenamiento y prueba\n",
    "X_train, X_test, y_train_race, y_test_race = train_test_split(X, y_race, test_size=0.3, random_state=42)\n",
    "\n",
    "# Entrenamos un RandomForestClassifier\n",
    "rf_race = RandomForestClassifier(n_estimators=100, random_state=42)\n",
    "rf_race.fit(X_train, y_train_race)\n",
    "\n",
    "# Realizamos predicciones\n",
    "y_pred_race = rf_race.predict(X_test)\n",
    "\n",
    "# Evaluamos el modelo\n",
    "mse = mean_squared_error(y_test_race, y_pred_race)\n",
    "print(f\"Mean Squared Error for Race Prediction: {mse}\")\n",
    "print(\"Classification Report for Race Prediction\")\n",
    "print(classification_report(y_test_race, y_pred_race))"
   ]
  },
  {
   "cell_type": "code",
   "execution_count": 27,
   "id": "f621f8ac-f17a-431c-b5d1-4dd9f955b98f",
   "metadata": {},
   "outputs": [
    {
     "name": "stdout",
     "output_type": "stream",
     "text": [
      "Mean Squared Error for Age Prediction: 134.1449380325116\n",
      "Classification Report for Age Prediction\n"
     ]
    },
    {
     "ename": "ValueError",
     "evalue": "Classification metrics can't handle a mix of multiclass and continuous targets",
     "output_type": "error",
     "traceback": [
      "\u001b[1;31m---------------------------------------------------------------------------\u001b[0m",
      "\u001b[1;31mValueError\u001b[0m                                Traceback (most recent call last)",
      "Cell \u001b[1;32mIn[27], line 16\u001b[0m\n\u001b[0;32m     14\u001b[0m \u001b[38;5;28mprint\u001b[39m(\u001b[38;5;124mf\u001b[39m\u001b[38;5;124m\"\u001b[39m\u001b[38;5;124mMean Squared Error for Age Prediction: \u001b[39m\u001b[38;5;132;01m{\u001b[39;00mmse\u001b[38;5;132;01m}\u001b[39;00m\u001b[38;5;124m\"\u001b[39m)\n\u001b[0;32m     15\u001b[0m \u001b[38;5;28mprint\u001b[39m(\u001b[38;5;124m\"\u001b[39m\u001b[38;5;124mClassification Report for Age Prediction\u001b[39m\u001b[38;5;124m\"\u001b[39m)\n\u001b[1;32m---> 16\u001b[0m \u001b[38;5;28mprint\u001b[39m(classification_report(y_test_age, y_pred_age))\n",
      "File \u001b[1;32m~\\anaconda3\\Lib\\site-packages\\sklearn\\utils\\_param_validation.py:213\u001b[0m, in \u001b[0;36mvalidate_params.<locals>.decorator.<locals>.wrapper\u001b[1;34m(*args, **kwargs)\u001b[0m\n\u001b[0;32m    207\u001b[0m \u001b[38;5;28;01mtry\u001b[39;00m:\n\u001b[0;32m    208\u001b[0m     \u001b[38;5;28;01mwith\u001b[39;00m config_context(\n\u001b[0;32m    209\u001b[0m         skip_parameter_validation\u001b[38;5;241m=\u001b[39m(\n\u001b[0;32m    210\u001b[0m             prefer_skip_nested_validation \u001b[38;5;129;01mor\u001b[39;00m global_skip_validation\n\u001b[0;32m    211\u001b[0m         )\n\u001b[0;32m    212\u001b[0m     ):\n\u001b[1;32m--> 213\u001b[0m         \u001b[38;5;28;01mreturn\u001b[39;00m func(\u001b[38;5;241m*\u001b[39margs, \u001b[38;5;241m*\u001b[39m\u001b[38;5;241m*\u001b[39mkwargs)\n\u001b[0;32m    214\u001b[0m \u001b[38;5;28;01mexcept\u001b[39;00m InvalidParameterError \u001b[38;5;28;01mas\u001b[39;00m e:\n\u001b[0;32m    215\u001b[0m     \u001b[38;5;66;03m# When the function is just a wrapper around an estimator, we allow\u001b[39;00m\n\u001b[0;32m    216\u001b[0m     \u001b[38;5;66;03m# the function to delegate validation to the estimator, but we replace\u001b[39;00m\n\u001b[0;32m    217\u001b[0m     \u001b[38;5;66;03m# the name of the estimator by the name of the function in the error\u001b[39;00m\n\u001b[0;32m    218\u001b[0m     \u001b[38;5;66;03m# message to avoid confusion.\u001b[39;00m\n\u001b[0;32m    219\u001b[0m     msg \u001b[38;5;241m=\u001b[39m re\u001b[38;5;241m.\u001b[39msub(\n\u001b[0;32m    220\u001b[0m         \u001b[38;5;124mr\u001b[39m\u001b[38;5;124m\"\u001b[39m\u001b[38;5;124mparameter of \u001b[39m\u001b[38;5;124m\\\u001b[39m\u001b[38;5;124mw+ must be\u001b[39m\u001b[38;5;124m\"\u001b[39m,\n\u001b[0;32m    221\u001b[0m         \u001b[38;5;124mf\u001b[39m\u001b[38;5;124m\"\u001b[39m\u001b[38;5;124mparameter of \u001b[39m\u001b[38;5;132;01m{\u001b[39;00mfunc\u001b[38;5;241m.\u001b[39m\u001b[38;5;18m__qualname__\u001b[39m\u001b[38;5;132;01m}\u001b[39;00m\u001b[38;5;124m must be\u001b[39m\u001b[38;5;124m\"\u001b[39m,\n\u001b[0;32m    222\u001b[0m         \u001b[38;5;28mstr\u001b[39m(e),\n\u001b[0;32m    223\u001b[0m     )\n",
      "File \u001b[1;32m~\\anaconda3\\Lib\\site-packages\\sklearn\\metrics\\_classification.py:2604\u001b[0m, in \u001b[0;36mclassification_report\u001b[1;34m(y_true, y_pred, labels, target_names, sample_weight, digits, output_dict, zero_division)\u001b[0m\n\u001b[0;32m   2469\u001b[0m \u001b[38;5;129m@validate_params\u001b[39m(\n\u001b[0;32m   2470\u001b[0m     {\n\u001b[0;32m   2471\u001b[0m         \u001b[38;5;124m\"\u001b[39m\u001b[38;5;124my_true\u001b[39m\u001b[38;5;124m\"\u001b[39m: [\u001b[38;5;124m\"\u001b[39m\u001b[38;5;124marray-like\u001b[39m\u001b[38;5;124m\"\u001b[39m, \u001b[38;5;124m\"\u001b[39m\u001b[38;5;124msparse matrix\u001b[39m\u001b[38;5;124m\"\u001b[39m],\n\u001b[1;32m   (...)\u001b[0m\n\u001b[0;32m   2495\u001b[0m     zero_division\u001b[38;5;241m=\u001b[39m\u001b[38;5;124m\"\u001b[39m\u001b[38;5;124mwarn\u001b[39m\u001b[38;5;124m\"\u001b[39m,\n\u001b[0;32m   2496\u001b[0m ):\n\u001b[0;32m   2497\u001b[0m \u001b[38;5;250m    \u001b[39m\u001b[38;5;124;03m\"\"\"Build a text report showing the main classification metrics.\u001b[39;00m\n\u001b[0;32m   2498\u001b[0m \n\u001b[0;32m   2499\u001b[0m \u001b[38;5;124;03m    Read more in the :ref:`User Guide <classification_report>`.\u001b[39;00m\n\u001b[1;32m   (...)\u001b[0m\n\u001b[0;32m   2601\u001b[0m \u001b[38;5;124;03m    <BLANKLINE>\u001b[39;00m\n\u001b[0;32m   2602\u001b[0m \u001b[38;5;124;03m    \"\"\"\u001b[39;00m\n\u001b[1;32m-> 2604\u001b[0m     y_type, y_true, y_pred \u001b[38;5;241m=\u001b[39m _check_targets(y_true, y_pred)\n\u001b[0;32m   2606\u001b[0m     \u001b[38;5;28;01mif\u001b[39;00m labels \u001b[38;5;129;01mis\u001b[39;00m \u001b[38;5;28;01mNone\u001b[39;00m:\n\u001b[0;32m   2607\u001b[0m         labels \u001b[38;5;241m=\u001b[39m unique_labels(y_true, y_pred)\n",
      "File \u001b[1;32m~\\anaconda3\\Lib\\site-packages\\sklearn\\metrics\\_classification.py:94\u001b[0m, in \u001b[0;36m_check_targets\u001b[1;34m(y_true, y_pred)\u001b[0m\n\u001b[0;32m     91\u001b[0m     y_type \u001b[38;5;241m=\u001b[39m {\u001b[38;5;124m\"\u001b[39m\u001b[38;5;124mmulticlass\u001b[39m\u001b[38;5;124m\"\u001b[39m}\n\u001b[0;32m     93\u001b[0m \u001b[38;5;28;01mif\u001b[39;00m \u001b[38;5;28mlen\u001b[39m(y_type) \u001b[38;5;241m>\u001b[39m \u001b[38;5;241m1\u001b[39m:\n\u001b[1;32m---> 94\u001b[0m     \u001b[38;5;28;01mraise\u001b[39;00m \u001b[38;5;167;01mValueError\u001b[39;00m(\n\u001b[0;32m     95\u001b[0m         \u001b[38;5;124m\"\u001b[39m\u001b[38;5;124mClassification metrics can\u001b[39m\u001b[38;5;124m'\u001b[39m\u001b[38;5;124mt handle a mix of \u001b[39m\u001b[38;5;132;01m{0}\u001b[39;00m\u001b[38;5;124m and \u001b[39m\u001b[38;5;132;01m{1}\u001b[39;00m\u001b[38;5;124m targets\u001b[39m\u001b[38;5;124m\"\u001b[39m\u001b[38;5;241m.\u001b[39mformat(\n\u001b[0;32m     96\u001b[0m             type_true, type_pred\n\u001b[0;32m     97\u001b[0m         )\n\u001b[0;32m     98\u001b[0m     )\n\u001b[0;32m    100\u001b[0m \u001b[38;5;66;03m# We can't have more than one value on y_type => The set is no more needed\u001b[39;00m\n\u001b[0;32m    101\u001b[0m y_type \u001b[38;5;241m=\u001b[39m y_type\u001b[38;5;241m.\u001b[39mpop()\n",
      "\u001b[1;31mValueError\u001b[0m: Classification metrics can't handle a mix of multiclass and continuous targets"
     ]
    }
   ],
   "source": [
    "# Predicción de Edad\n",
    "# Dividimos los datos en conjuntos de entrenamiento y prueba\n",
    "X_train, X_test, y_train_age, y_test_age = train_test_split(X, y_age, test_size=0.3, random_state=42)\n",
    "\n",
    "# Entrenamos un RandomForestRegressor\n",
    "rf_age = RandomForestRegressor(n_estimators=100, random_state=42)\n",
    "rf_age.fit(X_train, y_train_age)\n",
    "\n",
    "# Realizamos predicciones\n",
    "y_pred_age = rf_age.predict(X_test)\n",
    "\n",
    "# Evaluamos el modelo\n",
    "mse = mean_squared_error(y_test_age, y_pred_age)\n",
    "print(f\"Mean Squared Error for Age Prediction: {mse}\")\n",
    "print(\"Classification Report for Age Prediction\")\n",
    "print(classification_report(y_test_age, y_pred_age))"
   ]
  },
  {
   "cell_type": "code",
   "execution_count": 18,
   "id": "48926399-b188-448f-ae2b-65c1a2c3b2b5",
   "metadata": {},
   "outputs": [
    {
     "name": "stdout",
     "output_type": "stream",
     "text": [
      "Mejores parámetros para distritos: {'max_depth': 20, 'n_estimators': 200}\n",
      "Mejores parámetros para razas: {'max_depth': 20, 'n_estimators': 100}\n"
     ]
    }
   ],
   "source": [
    "# AFINACIÓN DE HIPERPARÁMETROS\n",
    "# ============================\n",
    "# GridSearchCV para encontrar los mejores hiperparámetros\n",
    "# Parámetros a probar\n",
    "param_grid = {\n",
    "    'n_estimators': [50, 100, 200],\n",
    "    'max_depth': [None, 10, 20, 30]\n",
    "}\n",
    "\n",
    "# Grid search para el modelo de distritos\n",
    "grid_search_district = GridSearchCV(RandomForestClassifier(random_state=42), param_grid, cv=3, scoring='accuracy')\n",
    "grid_search_district.fit(X_train, y_train_district)\n",
    "print(f\"Mejores parámetros para distritos: {grid_search_district.best_params_}\")\n",
    "\n",
    "# Grid search para el modelo de razas\n",
    "grid_search_race = GridSearchCV(RandomForestClassifier(random_state=42), param_grid, cv=3, scoring='accuracy')\n",
    "grid_search_race.fit(X_train, y_train_race)\n",
    "print(f\"Mejores parámetros para razas: {grid_search_race.best_params_}\")"
   ]
  },
  {
   "cell_type": "code",
   "execution_count": null,
   "id": "449c00bd-ef15-447f-aef7-4f3324a9fa30",
   "metadata": {},
   "outputs": [],
   "source": []
  },
  {
   "cell_type": "code",
   "execution_count": null,
   "id": "6479cc7b-a4b1-4940-8f09-e13a1ed06213",
   "metadata": {},
   "outputs": [],
   "source": []
  },
  {
   "cell_type": "code",
   "execution_count": 22,
   "id": "4963345f-a28b-4f86-a1eb-b2e2a21607a7",
   "metadata": {
    "tags": []
   },
   "outputs": [],
   "source": [
    "import pandas as pd\n",
    "import numpy as np\n",
    "import matplotlib.pyplot as plt\n",
    "import seaborn as sns\n",
    "import geopandas as gpd\n",
    "from sklearn.model_selection import train_test_split, GridSearchCV\n",
    "from sklearn.ensemble import RandomForestClassifier, RandomForestRegressor\n",
    "from sklearn.metrics import mean_squared_error, classification_report, r2_score\n",
    "from imblearn.over_sampling import SMOTE\n",
    "from sklearn.preprocessing import StandardScaler\n",
    "import warnings\n",
    "warnings.filterwarnings(\"ignore\")"
   ]
  },
  {
   "cell_type": "code",
   "execution_count": 24,
   "id": "c73daf4e-d4ff-4a06-abc0-692ded466bab",
   "metadata": {
    "tags": []
   },
   "outputs": [],
   "source": [
    "# Cargar y limpiar los datos\n",
    "df = pd.read_csv('New_BPD.csv')"
   ]
  },
  {
   "cell_type": "code",
   "execution_count": 36,
   "id": "33225960-f452-41de-97b9-c5fe5bb8a383",
   "metadata": {
    "tags": []
   },
   "outputs": [],
   "source": [
    "# Eliminar filas con valores nulos en columnas clave\n",
    "df_clean = df.dropna(subset=['District', 'Race', 'Age', 'OffenseCategory'])\n",
    "\n",
    "# Convertir variables categóricas\n",
    "df_clean['District'] = df_clean['District'].astype('category').cat.codes\n",
    "df_clean['Race'] = df_clean['Race'].astype('category').cat.codes\n",
    "df_clean['Age'] = df_clean['Age'].astype('category').cat.codes\n",
    "df_clean['OffenseCategory'] = df_clean['OffenseCategory'].astype('category').cat.codes\n",
    "df.drop_duplicates(inplace=True)\n",
    "df.dropna(inplace=True)"
   ]
  },
  {
   "cell_type": "code",
   "execution_count": 9,
   "id": "496c14fd-27fb-45f6-ad46-e2595fc2f8db",
   "metadata": {
    "tags": []
   },
   "outputs": [],
   "source": [
    "# Seleccionar características y variables objetivo\n",
    "features = ['Year', 'Month', 'DayOfWeek', 'Hour', 'Latitude', 'Longitude']\n",
    "X = df_clean[features]\n",
    "y_district = df_clean['District']\n",
    "y_race = df_clean['Race']\n",
    "y_age = df_clean['Age']\n",
    "\n",
    "# Normalización de características\n",
    "scaler = StandardScaler()\n",
    "X_scaled = scaler.fit_transform(X)"
   ]
  },
  {
   "cell_type": "code",
   "execution_count": null,
   "id": "33f62d50-3015-46dc-9563-381fa7c26bff",
   "metadata": {
    "tags": []
   },
   "outputs": [],
   "source": [
    "# ---------------------------\n",
    "# PREDICCIÓN DE DISTRITOS\n",
    "# ---------------------------\n",
    "X_train, X_test, y_train_district, y_test_district = train_test_split(X_scaled, y_district, test_size=0.3, random_state=42)\n",
    "\n",
    "# Entrenamiento y ajuste de hiperparámetros usando GridSearchCV\n",
    "param_grid = {'n_estimators': [50, 100, 200], 'max_depth': [None, 10, 20], 'min_samples_split': [2, 5, 10]}\n",
    "rf_district = RandomForestClassifier(random_state=42)\n",
    "grid_search_district = GridSearchCV(rf_district, param_grid, cv=5, n_jobs=-1, scoring='accuracy')\n",
    "grid_search_district.fit(X_train, y_train_district)"
   ]
  },
  {
   "cell_type": "code",
   "execution_count": null,
   "id": "697725f2-c204-4783-94f3-52d6338446e0",
   "metadata": {
    "tags": []
   },
   "outputs": [],
   "source": [
    "# Mejor modelo de RandomForestClassifier\n",
    "best_rf_district = grid_search_district.best_estimator_"
   ]
  },
  {
   "cell_type": "code",
   "execution_count": null,
   "id": "790cbe79-a44b-46f5-b864-850a7a5ea363",
   "metadata": {},
   "outputs": [],
   "source": [
    "# ---------------------------\n",
    "# PREDICCIÓN DE RAZA (Manejo del Desbalanceo)\n",
    "# ---------------------------\n",
    "# Aplicar SMOTE para el balanceo de clases\n",
    "X_train_race, X_test_race, y_train_race, y_test_race = train_test_split(X_scaled, y_race, test_size=0.3, random_state=42)\n",
    "smote = SMOTE(random_state=42)\n",
    "X_train_race_smote, y_train_race_smote = smote.fit_resample(X_train_race, y_train_race)"
   ]
  },
  {
   "cell_type": "code",
   "execution_count": 32,
   "id": "e010da89-812b-46c4-a7f1-89b8c6eb9f41",
   "metadata": {
    "tags": []
   },
   "outputs": [
    {
     "name": "stdout",
     "output_type": "stream",
     "text": [
      "Mean Squared Error for District Prediction: 0.18945219166775273\n",
      "Classification Report for District Prediction\n",
      "              precision    recall  f1-score   support\n",
      "\n",
      "           0       0.99      0.98      0.98      2569\n",
      "           1       1.00      0.99      0.99      3138\n",
      "           2       0.99      1.00      0.99      2568\n",
      "           3       0.99      0.98      0.99      1499\n",
      "           4       0.99      1.00      0.99      2029\n",
      "           5       0.99      1.00      1.00      2840\n",
      "           6       1.00      1.00      1.00      3180\n",
      "           7       0.99      0.99      0.99      2118\n",
      "           8       0.98      0.99      0.98      3078\n",
      "\n",
      "    accuracy                           0.99     23019\n",
      "   macro avg       0.99      0.99      0.99     23019\n",
      "weighted avg       0.99      0.99      0.99     23019\n",
      "\n"
     ]
    }
   ],
   "source": [
    "# Evaluación del modelo\n",
    "y_pred_district = best_rf_district.predict(X_test)\n",
    "print(f\"Mean Squared Error for District Prediction: {mean_squared_error(y_test_district, y_pred_district)}\")\n",
    "print(\"Classification Report for District Prediction\")\n",
    "print(classification_report(y_test_district, y_pred_district))"
   ]
  },
  {
   "cell_type": "code",
   "execution_count": 26,
   "id": "ba9cdb2b-f80b-41c2-a078-c660240d1197",
   "metadata": {},
   "outputs": [
    {
     "ename": "NameError",
     "evalue": "name 'X_train_race_smote' is not defined",
     "output_type": "error",
     "traceback": [
      "\u001b[1;31m---------------------------------------------------------------------------\u001b[0m",
      "\u001b[1;31mNameError\u001b[0m                                 Traceback (most recent call last)",
      "Cell \u001b[1;32mIn[26], line 9\u001b[0m\n\u001b[0;32m      7\u001b[0m rf_race \u001b[38;5;241m=\u001b[39m RandomForestClassifier(random_state\u001b[38;5;241m=\u001b[39m\u001b[38;5;241m42\u001b[39m)\n\u001b[0;32m      8\u001b[0m grid_search_race \u001b[38;5;241m=\u001b[39m GridSearchCV(rf_race, param_grid, cv\u001b[38;5;241m=\u001b[39m\u001b[38;5;241m5\u001b[39m, n_jobs\u001b[38;5;241m=\u001b[39m\u001b[38;5;241m-\u001b[39m\u001b[38;5;241m1\u001b[39m, scoring\u001b[38;5;241m=\u001b[39m\u001b[38;5;124m'\u001b[39m\u001b[38;5;124maccuracy\u001b[39m\u001b[38;5;124m'\u001b[39m)\n\u001b[1;32m----> 9\u001b[0m grid_search_race\u001b[38;5;241m.\u001b[39mfit(X_train_race_smote, y_train_race_smote)\n\u001b[0;32m     11\u001b[0m \u001b[38;5;66;03m# Mejor modelo\u001b[39;00m\n\u001b[0;32m     12\u001b[0m best_rf_race \u001b[38;5;241m=\u001b[39m grid_search_race\u001b[38;5;241m.\u001b[39mbest_estimator_\n",
      "\u001b[1;31mNameError\u001b[0m: name 'X_train_race_smote' is not defined"
     ]
    }
   ],
   "source": [
    "param_grid = {\n",
    "    'n_estimators': [50, 100, 200],\n",
    "    'max_depth': [None, 10, 20, 30]\n",
    "}\n",
    "\n",
    "# Entrenamiento y ajuste de hiperparámetros\n",
    "rf_race = RandomForestClassifier(random_state=42)\n",
    "grid_search_race = GridSearchCV(rf_race, param_grid, cv=5, n_jobs=-1, scoring='accuracy')\n",
    "grid_search_race.fit(X_train_race_smote, y_train_race_smote)\n",
    "\n",
    "# Mejor modelo\n",
    "best_rf_race = grid_search_race.best_estimator_"
   ]
  },
  {
   "cell_type": "code",
   "execution_count": null,
   "id": "e82cf495-4bbd-4e32-82d1-2a82a23a19d8",
   "metadata": {},
   "outputs": [],
   "source": [
    "# Evaluación del modelo\n",
    "y_pred_race = best_rf_race.predict(X_test_race)\n",
    "print(f\"Mean Squared Error for Race Prediction: {mean_squared_error(y_test_race, y_pred_race)}\")\n",
    "print(\"Classification Report for Race Prediction\")\n",
    "print(classification_report(y_test_race, y_pred_race))"
   ]
  },
  {
   "cell_type": "code",
   "execution_count": 11,
   "id": "ac9fd85c-6eb0-40b7-9180-d867e2e361ae",
   "metadata": {
    "tags": []
   },
   "outputs": [],
   "source": [
    "# ---------------------------\n",
    "# PREDICCIÓN DE EDAD\n",
    "# ---------------------------\n",
    "X_train_age, X_test_age, y_train_age, y_test_age = train_test_split(X_scaled, y_age, test_size=0.3, random_state=42)"
   ]
  },
  {
   "cell_type": "code",
   "execution_count": 13,
   "id": "06985be9-7493-48f0-8d15-4a6a7251f285",
   "metadata": {
    "tags": []
   },
   "outputs": [],
   "source": [
    "# Entrenamiento y ajuste de hiperparámetros usando GridSearchCV\n",
    "rf_age = RandomForestRegressor(random_state=42)\n",
    "param_grid_reg = {'n_estimators': [50, 100, 200], 'max_depth': [None, 10, 20], 'min_samples_split': [2, 5, 10]}\n",
    "grid_search_age = GridSearchCV(rf_age, param_grid_reg, cv=5, n_jobs=-1, scoring='neg_mean_squared_error')\n",
    "grid_search_age.fit(X_train_age, y_train_age)\n",
    "\n",
    "# Mejor modelo de RandomForestRegressor\n",
    "best_rf_age = grid_search_age.best_estimator_"
   ]
  },
  {
   "cell_type": "code",
   "execution_count": 20,
   "id": "66a6cd3b-c9c7-428d-a81e-af9a81f59881",
   "metadata": {
    "tags": []
   },
   "outputs": [
    {
     "name": "stdout",
     "output_type": "stream",
     "text": [
      "Mean Squared Error for Age Prediction: 129.22467305366166\n",
      "R^2 Score for Age Prediction: 0.0787392667078225\n"
     ]
    }
   ],
   "source": [
    "# Evaluación del modelo\n",
    "y_pred_age = best_rf_age.predict(X_test_age)\n",
    "mse_age = mean_squared_error(y_test_age, y_pred_age)\n",
    "r2_age = r2_score(y_test_age, y_pred_age)\n",
    "print(f\"Mean Squared Error for Age Prediction: {mse_age}\")\n",
    "print(f\"R^2 Score for Age Prediction: {r2_age}\")"
   ]
  },
  {
   "cell_type": "code",
   "execution_count": 22,
   "id": "700e08af-18d2-48de-8913-cd6a6678ff70",
   "metadata": {
    "tags": []
   },
   "outputs": [
    {
     "ename": "ValueError",
     "evalue": "could not convert string to float: 'M'",
     "output_type": "error",
     "traceback": [
      "\u001b[1;31m---------------------------------------------------------------------------\u001b[0m",
      "\u001b[1;31mValueError\u001b[0m                                Traceback (most recent call last)",
      "Cell \u001b[1;32mIn[22], line 6\u001b[0m\n\u001b[0;32m      1\u001b[0m \u001b[38;5;66;03m# ---------------------------\u001b[39;00m\n\u001b[0;32m      2\u001b[0m \u001b[38;5;66;03m# VISUALIZACIÓN Y ANÁLISIS EXPLORATORIO\u001b[39;00m\n\u001b[0;32m      3\u001b[0m \u001b[38;5;66;03m# ---------------------------\u001b[39;00m\n\u001b[0;32m      4\u001b[0m \u001b[38;5;66;03m# Correlación entre características\u001b[39;00m\n\u001b[0;32m      5\u001b[0m plt\u001b[38;5;241m.\u001b[39mfigure(figsize\u001b[38;5;241m=\u001b[39m(\u001b[38;5;241m10\u001b[39m, \u001b[38;5;241m8\u001b[39m))\n\u001b[1;32m----> 6\u001b[0m sns\u001b[38;5;241m.\u001b[39mheatmap(df_clean\u001b[38;5;241m.\u001b[39mcorr(), annot\u001b[38;5;241m=\u001b[39m\u001b[38;5;28;01mTrue\u001b[39;00m, cmap\u001b[38;5;241m=\u001b[39m\u001b[38;5;124m'\u001b[39m\u001b[38;5;124mcoolwarm\u001b[39m\u001b[38;5;124m'\u001b[39m)\n\u001b[0;32m      7\u001b[0m plt\u001b[38;5;241m.\u001b[39mtitle(\u001b[38;5;124m'\u001b[39m\u001b[38;5;124mCorrelación entre características\u001b[39m\u001b[38;5;124m'\u001b[39m)\n\u001b[0;32m      8\u001b[0m plt\u001b[38;5;241m.\u001b[39mshow()\n",
      "File \u001b[1;32m~\\anaconda3\\Lib\\site-packages\\pandas\\core\\frame.py:11036\u001b[0m, in \u001b[0;36mDataFrame.corr\u001b[1;34m(self, method, min_periods, numeric_only)\u001b[0m\n\u001b[0;32m  11034\u001b[0m cols \u001b[38;5;241m=\u001b[39m data\u001b[38;5;241m.\u001b[39mcolumns\n\u001b[0;32m  11035\u001b[0m idx \u001b[38;5;241m=\u001b[39m cols\u001b[38;5;241m.\u001b[39mcopy()\n\u001b[1;32m> 11036\u001b[0m mat \u001b[38;5;241m=\u001b[39m data\u001b[38;5;241m.\u001b[39mto_numpy(dtype\u001b[38;5;241m=\u001b[39m\u001b[38;5;28mfloat\u001b[39m, na_value\u001b[38;5;241m=\u001b[39mnp\u001b[38;5;241m.\u001b[39mnan, copy\u001b[38;5;241m=\u001b[39m\u001b[38;5;28;01mFalse\u001b[39;00m)\n\u001b[0;32m  11038\u001b[0m \u001b[38;5;28;01mif\u001b[39;00m method \u001b[38;5;241m==\u001b[39m \u001b[38;5;124m\"\u001b[39m\u001b[38;5;124mpearson\u001b[39m\u001b[38;5;124m\"\u001b[39m:\n\u001b[0;32m  11039\u001b[0m     correl \u001b[38;5;241m=\u001b[39m libalgos\u001b[38;5;241m.\u001b[39mnancorr(mat, minp\u001b[38;5;241m=\u001b[39mmin_periods)\n",
      "File \u001b[1;32m~\\anaconda3\\Lib\\site-packages\\pandas\\core\\frame.py:1981\u001b[0m, in \u001b[0;36mDataFrame.to_numpy\u001b[1;34m(self, dtype, copy, na_value)\u001b[0m\n\u001b[0;32m   1979\u001b[0m \u001b[38;5;28;01mif\u001b[39;00m dtype \u001b[38;5;129;01mis\u001b[39;00m \u001b[38;5;129;01mnot\u001b[39;00m \u001b[38;5;28;01mNone\u001b[39;00m:\n\u001b[0;32m   1980\u001b[0m     dtype \u001b[38;5;241m=\u001b[39m np\u001b[38;5;241m.\u001b[39mdtype(dtype)\n\u001b[1;32m-> 1981\u001b[0m result \u001b[38;5;241m=\u001b[39m \u001b[38;5;28mself\u001b[39m\u001b[38;5;241m.\u001b[39m_mgr\u001b[38;5;241m.\u001b[39mas_array(dtype\u001b[38;5;241m=\u001b[39mdtype, copy\u001b[38;5;241m=\u001b[39mcopy, na_value\u001b[38;5;241m=\u001b[39mna_value)\n\u001b[0;32m   1982\u001b[0m \u001b[38;5;28;01mif\u001b[39;00m result\u001b[38;5;241m.\u001b[39mdtype \u001b[38;5;129;01mis\u001b[39;00m \u001b[38;5;129;01mnot\u001b[39;00m dtype:\n\u001b[0;32m   1983\u001b[0m     result \u001b[38;5;241m=\u001b[39m np\u001b[38;5;241m.\u001b[39marray(result, dtype\u001b[38;5;241m=\u001b[39mdtype, copy\u001b[38;5;241m=\u001b[39m\u001b[38;5;28;01mFalse\u001b[39;00m)\n",
      "File \u001b[1;32m~\\anaconda3\\Lib\\site-packages\\pandas\\core\\internals\\managers.py:1692\u001b[0m, in \u001b[0;36mBlockManager.as_array\u001b[1;34m(self, dtype, copy, na_value)\u001b[0m\n\u001b[0;32m   1690\u001b[0m         arr\u001b[38;5;241m.\u001b[39mflags\u001b[38;5;241m.\u001b[39mwriteable \u001b[38;5;241m=\u001b[39m \u001b[38;5;28;01mFalse\u001b[39;00m\n\u001b[0;32m   1691\u001b[0m \u001b[38;5;28;01melse\u001b[39;00m:\n\u001b[1;32m-> 1692\u001b[0m     arr \u001b[38;5;241m=\u001b[39m \u001b[38;5;28mself\u001b[39m\u001b[38;5;241m.\u001b[39m_interleave(dtype\u001b[38;5;241m=\u001b[39mdtype, na_value\u001b[38;5;241m=\u001b[39mna_value)\n\u001b[0;32m   1693\u001b[0m     \u001b[38;5;66;03m# The underlying data was copied within _interleave, so no need\u001b[39;00m\n\u001b[0;32m   1694\u001b[0m     \u001b[38;5;66;03m# to further copy if copy=True or setting na_value\u001b[39;00m\n\u001b[0;32m   1696\u001b[0m \u001b[38;5;28;01mif\u001b[39;00m na_value \u001b[38;5;129;01mis\u001b[39;00m lib\u001b[38;5;241m.\u001b[39mno_default:\n",
      "File \u001b[1;32m~\\anaconda3\\Lib\\site-packages\\pandas\\core\\internals\\managers.py:1751\u001b[0m, in \u001b[0;36mBlockManager._interleave\u001b[1;34m(self, dtype, na_value)\u001b[0m\n\u001b[0;32m   1749\u001b[0m     \u001b[38;5;28;01melse\u001b[39;00m:\n\u001b[0;32m   1750\u001b[0m         arr \u001b[38;5;241m=\u001b[39m blk\u001b[38;5;241m.\u001b[39mget_values(dtype)\n\u001b[1;32m-> 1751\u001b[0m     result[rl\u001b[38;5;241m.\u001b[39mindexer] \u001b[38;5;241m=\u001b[39m arr\n\u001b[0;32m   1752\u001b[0m     itemmask[rl\u001b[38;5;241m.\u001b[39mindexer] \u001b[38;5;241m=\u001b[39m \u001b[38;5;241m1\u001b[39m\n\u001b[0;32m   1754\u001b[0m \u001b[38;5;28;01mif\u001b[39;00m \u001b[38;5;129;01mnot\u001b[39;00m itemmask\u001b[38;5;241m.\u001b[39mall():\n",
      "\u001b[1;31mValueError\u001b[0m: could not convert string to float: 'M'"
     ]
    },
    {
     "data": {
      "text/plain": [
       "<Figure size 1000x800 with 0 Axes>"
      ]
     },
     "metadata": {},
     "output_type": "display_data"
    }
   ],
   "source": [
    "# ---------------------------\n",
    "# VISUALIZACIÓN Y ANÁLISIS EXPLORATORIO\n",
    "# ---------------------------\n",
    "# Correlación entre características\n",
    "plt.figure(figsize=(10, 8))\n",
    "sns.heatmap(df_clean.corr(), annot=True, cmap='coolwarm')\n",
    "plt.title('Correlación entre características')\n",
    "plt.show()"
   ]
  },
  {
   "cell_type": "code",
   "execution_count": null,
   "id": "4f44ce16-330f-4731-8c76-faa68d460751",
   "metadata": {
    "tags": []
   },
   "outputs": [],
   "source": []
  },
  {
   "cell_type": "code",
   "execution_count": null,
   "id": "d38842ce-8ef2-4d94-820c-efa363a42a73",
   "metadata": {
    "tags": []
   },
   "outputs": [],
   "source": []
  },
  {
   "cell_type": "code",
   "execution_count": null,
   "id": "23342333-3d2a-4cd2-b301-d2a5f3f57482",
   "metadata": {},
   "outputs": [],
   "source": []
  }
 ],
 "metadata": {
  "kernelspec": {
   "display_name": "Python 3 (ipykernel)",
   "language": "python",
   "name": "python3"
  },
  "language_info": {
   "codemirror_mode": {
    "name": "ipython",
    "version": 3
   },
   "file_extension": ".py",
   "mimetype": "text/x-python",
   "name": "python",
   "nbconvert_exporter": "python",
   "pygments_lexer": "ipython3",
   "version": "3.11.9"
  }
 },
 "nbformat": 4,
 "nbformat_minor": 5
}
