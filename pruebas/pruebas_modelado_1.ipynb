{
 "cells": [
  {
   "cell_type": "markdown",
   "id": "edd2b751-f764-4729-bde0-f13a33fedb16",
   "metadata": {},
   "source": [
    "<table><tr>\n",
    "<td> <img src=https://www.baltimorepolice.org/themes/custom/bpd/images/bpd_logo.png alt=\"Drawing\" style=\"height: 250px;\"/> </td>\n",
    "<td> <img src=https://beam-images.warnermediacdn.com/BEAM_LWM_DELIVERABLES/1bc3aff5-0d6a-4c0b-8ed0-5716ca30ab3b/fbbc7a604f327cfa8a7bbe614a89be13a246d266.jpg?host=wbd-images.prod-vod.h264.io&partner=beamcom style=\"height: 250px;\"/> </td>\n",
    "</tr></table>"
   ]
  },
  {
   "cell_type": "markdown",
   "id": "64848642-d951-41d2-8314-411083d8c368",
   "metadata": {},
   "source": [
    "MACHINE LEARNING\n",
    "="
   ]
  },
  {
   "cell_type": "code",
   "execution_count": 6,
   "id": "0a7d3f98-d820-48a5-bf46-0e59a9801186",
   "metadata": {
    "tags": []
   },
   "outputs": [],
   "source": [
    "import pandas as pd\n",
    "import numpy as np\n",
    "import matplotlib.pyplot as plt\n",
    "import plotly.express as px\n",
    "import seaborn as sns\n",
    "import geopandas as gpd\n",
    "from sklearn.model_selection import train_test_split\n",
    "from sklearn.model_selection import GridSearchCV\n",
    "from sklearn.ensemble import RandomForestClassifier\n",
    "from sklearn.ensemble import RandomForestRegressor\n",
    "from sklearn.metrics import mean_squared_error\n",
    "from sklearn.metrics import classification_report\n",
    "import warnings\n",
    "warnings.filterwarnings(\"ignore\")"
   ]
  },
  {
   "cell_type": "code",
   "execution_count": 7,
   "id": "99b345fb-c61f-4a81-b850-faf12483d0ec",
   "metadata": {
    "tags": []
   },
   "outputs": [],
   "source": [
    "df = pd.read_csv('New_BPD.csv')"
   ]
  },
  {
   "cell_type": "code",
   "execution_count": null,
   "id": "1d0ccef1-476c-46ed-8ac1-59b9033ce8a5",
   "metadata": {},
   "outputs": [],
   "source": []
  },
  {
   "cell_type": "markdown",
   "id": "922a75f6-c689-4ddc-9532-7ab481fee73e",
   "metadata": {},
   "source": [
    "INGENIERÍA DE CARACTERÍSTICAS\n",
    "============================="
   ]
  },
  {
   "cell_type": "code",
   "execution_count": null,
   "id": "282ea3b5-3d6f-488f-887f-293101243f55",
   "metadata": {},
   "outputs": [],
   "source": []
  },
  {
   "cell_type": "code",
   "execution_count": 16,
   "id": "05d3a7d8-9fc4-4e95-af2e-e5c01bc94fcc",
   "metadata": {
    "tags": []
   },
   "outputs": [],
   "source": [
    "# Eliminamos filas con valores nulos en columnas clave\n",
    "df_clean = df.dropna(subset=['District', 'Race', 'Age'])\n",
    "\n",
    "# Convertimos 'District' y 'Race' a variables categóricas\n",
    "df_clean['District'] = df_clean['District'].astype('category').cat.codes\n",
    "df_clean['Race'] = df_clean['Race'].astype('category').cat.codes\n",
    "\n",
    "# Seleccionamos las características y la variable objetivo\n",
    "features = ['Year', 'Month', 'DayOfWeek', 'Hour', 'Latitude', 'Longitude']\n",
    "X = df_clean[features]\n",
    "y_district = df_clean['District']\n",
    "y_race = df_clean['Race']\n",
    "y_age = df_clean['Age']"
   ]
  },
  {
   "cell_type": "code",
   "execution_count": null,
   "id": "5427b74c-a85d-4d45-a247-0aaf3221f9c4",
   "metadata": {},
   "outputs": [],
   "source": []
  },
  {
   "cell_type": "code",
   "execution_count": null,
   "id": "50b7acb2-a2a2-4889-9cde-1828e594117b",
   "metadata": {},
   "outputs": [],
   "source": [
    "# ENTRENAMIENTO Y EVALUACION DE MODELOS\n",
    "# ====================================="
   ]
  },
  {
   "cell_type": "code",
   "execution_count": null,
   "id": "6ecfaf4b-af77-4223-8fe9-a0ddca8d37ee",
   "metadata": {},
   "outputs": [],
   "source": []
  },
  {
   "cell_type": "code",
   "execution_count": null,
   "id": "71b1c952-722e-44a5-a676-30a969a6c9c2",
   "metadata": {},
   "outputs": [],
   "source": [
    "# Predicción de Distritos"
   ]
  },
  {
   "cell_type": "code",
   "execution_count": 9,
   "id": "e626ac6b-7214-4841-8a05-98a4a05338c3",
   "metadata": {
    "tags": []
   },
   "outputs": [
    {
     "name": "stdout",
     "output_type": "stream",
     "text": [
      "Classification Report for District Prediction\n",
      "              precision    recall  f1-score   support\n",
      "\n",
      "           0       0.98      0.98      0.98      2566\n",
      "           1       1.00      0.99      0.99      3139\n",
      "           2       0.99      1.00      0.99      2707\n",
      "           3       0.99      0.98      0.98      1560\n",
      "           4       0.99      1.00      1.00      2117\n",
      "           5       0.99      1.00      1.00      2870\n",
      "           6       0.99      1.00      0.99      3372\n",
      "           7       0.99      0.99      0.99      2092\n",
      "           8       0.98      0.99      0.98      3153\n",
      "\n",
      "    accuracy                           0.99     23576\n",
      "   macro avg       0.99      0.99      0.99     23576\n",
      "weighted avg       0.99      0.99      0.99     23576\n",
      "\n"
     ]
    }
   ],
   "source": [
    "# Dividimos los datos en conjuntos de entrenamiento y prueba\n",
    "X_train, X_test, y_train_district, y_test_district = train_test_split(X, y_district, test_size=0.3, random_state=42)\n",
    "\n",
    "# Entrenamos un RandomForestClassifier\n",
    "rf_district = RandomForestClassifier(n_estimators=100, random_state=42)\n",
    "rf_district.fit(X_train, y_train_district)\n",
    "\n",
    "# Realizamos predicciones\n",
    "y_pred_district = rf_district.predict(X_test)\n",
    "\n",
    "# Evaluamos el modelo\n",
    "print(\"Classification Report for District Prediction\")\n",
    "print(classification_report(y_test_district, y_pred_district))"
   ]
  },
  {
   "cell_type": "code",
   "execution_count": null,
   "id": "3098fdf6-fdb8-43ab-b39f-4af6807af7d2",
   "metadata": {},
   "outputs": [],
   "source": []
  },
  {
   "cell_type": "code",
   "execution_count": null,
   "id": "817e1fe1-7523-4edf-89d9-71146844bb74",
   "metadata": {},
   "outputs": [],
   "source": [
    "# Predicción de Raza"
   ]
  },
  {
   "cell_type": "code",
   "execution_count": 11,
   "id": "b86f1696-e389-4c5b-826a-0accebb25056",
   "metadata": {
    "tags": []
   },
   "outputs": [
    {
     "name": "stdout",
     "output_type": "stream",
     "text": [
      "Classification Report for Race Prediction\n",
      "              precision    recall  f1-score   support\n",
      "\n",
      "           0       0.11      0.02      0.03        64\n",
      "           1       0.87      0.95      0.91     19452\n",
      "           2       0.17      0.02      0.03        65\n",
      "           3       0.41      0.14      0.21       495\n",
      "           4       0.55      0.34      0.42      3500\n",
      "\n",
      "    accuracy                           0.84     23576\n",
      "   macro avg       0.42      0.29      0.32     23576\n",
      "weighted avg       0.81      0.84      0.82     23576\n",
      "\n"
     ]
    }
   ],
   "source": [
    "# Dividimos los datos en conjuntos de entrenamiento y prueba\n",
    "X_train, X_test, y_train_race, y_test_race = train_test_split(X, y_race, test_size=0.3, random_state=42)\n",
    "\n",
    "# Entrenamos un RandomForestClassifier\n",
    "rf_race = RandomForestClassifier(n_estimators=100, random_state=42)\n",
    "rf_race.fit(X_train, y_train_race)\n",
    "\n",
    "# Realizamos predicciones\n",
    "y_pred_race = rf_race.predict(X_test)\n",
    "\n",
    "# Evaluamos el modelo\n",
    "print(\"Classification Report for Race Prediction\")\n",
    "print(classification_report(y_test_race, y_pred_race))"
   ]
  },
  {
   "cell_type": "code",
   "execution_count": null,
   "id": "e6976337-baa4-4c72-9ebe-d66537c1c23b",
   "metadata": {},
   "outputs": [],
   "source": []
  },
  {
   "cell_type": "code",
   "execution_count": null,
   "id": "a4a3694f-094c-4baf-8c84-31f0a4721572",
   "metadata": {},
   "outputs": [],
   "source": [
    "# AFINACIÓN DE HIPERPARÁMETROS\n",
    "# ============================"
   ]
  },
  {
   "cell_type": "code",
   "execution_count": null,
   "id": "3214af93-ae83-4ccc-91e8-756203d12f6e",
   "metadata": {},
   "outputs": [],
   "source": [
    "GridSearchCV para encontrar los mejores hiperparámetros"
   ]
  },
  {
   "cell_type": "code",
   "execution_count": 15,
   "id": "7573291c-f098-4a5e-aeab-6425af925abe",
   "metadata": {
    "tags": []
   },
   "outputs": [
    {
     "name": "stdout",
     "output_type": "stream",
     "text": [
      "Mejores parámetros para distritos: {'max_depth': 20, 'n_estimators': 200}\n",
      "Mejores parámetros para razas: {'max_depth': 20, 'n_estimators': 200}\n"
     ]
    }
   ],
   "source": [
    "# Parámetros a probar\n",
    "param_grid = {\n",
    "    'n_estimators': [50, 100, 200],\n",
    "    'max_depth': [None, 10, 20, 30]\n",
    "}\n",
    "\n",
    "# Grid search para el modelo de distritos\n",
    "grid_search_district = GridSearchCV(RandomForestClassifier(random_state=42), param_grid, cv=3, scoring='accuracy')\n",
    "grid_search_district.fit(X_train, y_train_district)\n",
    "print(f\"Mejores parámetros para distritos: {grid_search_district.best_params_}\")\n",
    "\n",
    "# Grid search para el modelo de razas\n",
    "grid_search_race = GridSearchCV(RandomForestClassifier(random_state=42), param_grid, cv=3, scoring='accuracy')\n",
    "grid_search_race.fit(X_train, y_train_race)\n",
    "print(f\"Mejores parámetros para razas: {grid_search_race.best_params_}\")"
   ]
  },
  {
   "cell_type": "code",
   "execution_count": null,
   "id": "d012256f-cebb-4a01-b3a2-ec77a3b1b211",
   "metadata": {},
   "outputs": [],
   "source": []
  },
  {
   "cell_type": "code",
   "execution_count": 16,
   "id": "af936f47-fb96-4b1c-a992-0dd40d057d52",
   "metadata": {
    "tags": []
   },
   "outputs": [],
   "source": [
    "# INTERPRETACIÓN DE RESULTADOS\n",
    "# ============================"
   ]
  },
  {
   "cell_type": "code",
   "execution_count": null,
   "id": "945db9d2-8f2b-4d3f-94b1-b136da5ebda4",
   "metadata": {},
   "outputs": [],
   "source": []
  },
  {
   "cell_type": "code",
   "execution_count": 18,
   "id": "e49e9c7b-fa6b-4102-ac61-d8759b4e006e",
   "metadata": {
    "tags": []
   },
   "outputs": [
    {
     "name": "stdout",
     "output_type": "stream",
     "text": [
      "Mean Squared Error for Age Prediction: 132.8079319480721\n"
     ]
    },
    {
     "ename": "ValueError",
     "evalue": "Classification metrics can't handle a mix of multiclass and continuous targets",
     "output_type": "error",
     "traceback": [
      "\u001b[1;31m---------------------------------------------------------------------------\u001b[0m",
      "\u001b[1;31mValueError\u001b[0m                                Traceback (most recent call last)",
      "Cell \u001b[1;32mIn[18], line 14\u001b[0m\n\u001b[0;32m     12\u001b[0m mse \u001b[38;5;241m=\u001b[39m mean_squared_error(y_test_age, y_pred_age)\n\u001b[0;32m     13\u001b[0m \u001b[38;5;28mprint\u001b[39m(\u001b[38;5;124mf\u001b[39m\u001b[38;5;124m\"\u001b[39m\u001b[38;5;124mMean Squared Error for Age Prediction: \u001b[39m\u001b[38;5;132;01m{\u001b[39;00mmse\u001b[38;5;132;01m}\u001b[39;00m\u001b[38;5;124m\"\u001b[39m)\n\u001b[1;32m---> 14\u001b[0m \u001b[38;5;28mprint\u001b[39m(classification_report(y_test_age, y_pred_age))\n",
      "File \u001b[1;32m~\\anaconda3\\Lib\\site-packages\\sklearn\\utils\\_param_validation.py:213\u001b[0m, in \u001b[0;36mvalidate_params.<locals>.decorator.<locals>.wrapper\u001b[1;34m(*args, **kwargs)\u001b[0m\n\u001b[0;32m    207\u001b[0m \u001b[38;5;28;01mtry\u001b[39;00m:\n\u001b[0;32m    208\u001b[0m     \u001b[38;5;28;01mwith\u001b[39;00m config_context(\n\u001b[0;32m    209\u001b[0m         skip_parameter_validation\u001b[38;5;241m=\u001b[39m(\n\u001b[0;32m    210\u001b[0m             prefer_skip_nested_validation \u001b[38;5;129;01mor\u001b[39;00m global_skip_validation\n\u001b[0;32m    211\u001b[0m         )\n\u001b[0;32m    212\u001b[0m     ):\n\u001b[1;32m--> 213\u001b[0m         \u001b[38;5;28;01mreturn\u001b[39;00m func(\u001b[38;5;241m*\u001b[39margs, \u001b[38;5;241m*\u001b[39m\u001b[38;5;241m*\u001b[39mkwargs)\n\u001b[0;32m    214\u001b[0m \u001b[38;5;28;01mexcept\u001b[39;00m InvalidParameterError \u001b[38;5;28;01mas\u001b[39;00m e:\n\u001b[0;32m    215\u001b[0m     \u001b[38;5;66;03m# When the function is just a wrapper around an estimator, we allow\u001b[39;00m\n\u001b[0;32m    216\u001b[0m     \u001b[38;5;66;03m# the function to delegate validation to the estimator, but we replace\u001b[39;00m\n\u001b[0;32m    217\u001b[0m     \u001b[38;5;66;03m# the name of the estimator by the name of the function in the error\u001b[39;00m\n\u001b[0;32m    218\u001b[0m     \u001b[38;5;66;03m# message to avoid confusion.\u001b[39;00m\n\u001b[0;32m    219\u001b[0m     msg \u001b[38;5;241m=\u001b[39m re\u001b[38;5;241m.\u001b[39msub(\n\u001b[0;32m    220\u001b[0m         \u001b[38;5;124mr\u001b[39m\u001b[38;5;124m\"\u001b[39m\u001b[38;5;124mparameter of \u001b[39m\u001b[38;5;124m\\\u001b[39m\u001b[38;5;124mw+ must be\u001b[39m\u001b[38;5;124m\"\u001b[39m,\n\u001b[0;32m    221\u001b[0m         \u001b[38;5;124mf\u001b[39m\u001b[38;5;124m\"\u001b[39m\u001b[38;5;124mparameter of \u001b[39m\u001b[38;5;132;01m{\u001b[39;00mfunc\u001b[38;5;241m.\u001b[39m\u001b[38;5;18m__qualname__\u001b[39m\u001b[38;5;132;01m}\u001b[39;00m\u001b[38;5;124m must be\u001b[39m\u001b[38;5;124m\"\u001b[39m,\n\u001b[0;32m    222\u001b[0m         \u001b[38;5;28mstr\u001b[39m(e),\n\u001b[0;32m    223\u001b[0m     )\n",
      "File \u001b[1;32m~\\anaconda3\\Lib\\site-packages\\sklearn\\metrics\\_classification.py:2604\u001b[0m, in \u001b[0;36mclassification_report\u001b[1;34m(y_true, y_pred, labels, target_names, sample_weight, digits, output_dict, zero_division)\u001b[0m\n\u001b[0;32m   2469\u001b[0m \u001b[38;5;129m@validate_params\u001b[39m(\n\u001b[0;32m   2470\u001b[0m     {\n\u001b[0;32m   2471\u001b[0m         \u001b[38;5;124m\"\u001b[39m\u001b[38;5;124my_true\u001b[39m\u001b[38;5;124m\"\u001b[39m: [\u001b[38;5;124m\"\u001b[39m\u001b[38;5;124marray-like\u001b[39m\u001b[38;5;124m\"\u001b[39m, \u001b[38;5;124m\"\u001b[39m\u001b[38;5;124msparse matrix\u001b[39m\u001b[38;5;124m\"\u001b[39m],\n\u001b[1;32m   (...)\u001b[0m\n\u001b[0;32m   2495\u001b[0m     zero_division\u001b[38;5;241m=\u001b[39m\u001b[38;5;124m\"\u001b[39m\u001b[38;5;124mwarn\u001b[39m\u001b[38;5;124m\"\u001b[39m,\n\u001b[0;32m   2496\u001b[0m ):\n\u001b[0;32m   2497\u001b[0m \u001b[38;5;250m    \u001b[39m\u001b[38;5;124;03m\"\"\"Build a text report showing the main classification metrics.\u001b[39;00m\n\u001b[0;32m   2498\u001b[0m \n\u001b[0;32m   2499\u001b[0m \u001b[38;5;124;03m    Read more in the :ref:`User Guide <classification_report>`.\u001b[39;00m\n\u001b[1;32m   (...)\u001b[0m\n\u001b[0;32m   2601\u001b[0m \u001b[38;5;124;03m    <BLANKLINE>\u001b[39;00m\n\u001b[0;32m   2602\u001b[0m \u001b[38;5;124;03m    \"\"\"\u001b[39;00m\n\u001b[1;32m-> 2604\u001b[0m     y_type, y_true, y_pred \u001b[38;5;241m=\u001b[39m _check_targets(y_true, y_pred)\n\u001b[0;32m   2606\u001b[0m     \u001b[38;5;28;01mif\u001b[39;00m labels \u001b[38;5;129;01mis\u001b[39;00m \u001b[38;5;28;01mNone\u001b[39;00m:\n\u001b[0;32m   2607\u001b[0m         labels \u001b[38;5;241m=\u001b[39m unique_labels(y_true, y_pred)\n",
      "File \u001b[1;32m~\\anaconda3\\Lib\\site-packages\\sklearn\\metrics\\_classification.py:94\u001b[0m, in \u001b[0;36m_check_targets\u001b[1;34m(y_true, y_pred)\u001b[0m\n\u001b[0;32m     91\u001b[0m     y_type \u001b[38;5;241m=\u001b[39m {\u001b[38;5;124m\"\u001b[39m\u001b[38;5;124mmulticlass\u001b[39m\u001b[38;5;124m\"\u001b[39m}\n\u001b[0;32m     93\u001b[0m \u001b[38;5;28;01mif\u001b[39;00m \u001b[38;5;28mlen\u001b[39m(y_type) \u001b[38;5;241m>\u001b[39m \u001b[38;5;241m1\u001b[39m:\n\u001b[1;32m---> 94\u001b[0m     \u001b[38;5;28;01mraise\u001b[39;00m \u001b[38;5;167;01mValueError\u001b[39;00m(\n\u001b[0;32m     95\u001b[0m         \u001b[38;5;124m\"\u001b[39m\u001b[38;5;124mClassification metrics can\u001b[39m\u001b[38;5;124m'\u001b[39m\u001b[38;5;124mt handle a mix of \u001b[39m\u001b[38;5;132;01m{0}\u001b[39;00m\u001b[38;5;124m and \u001b[39m\u001b[38;5;132;01m{1}\u001b[39;00m\u001b[38;5;124m targets\u001b[39m\u001b[38;5;124m\"\u001b[39m\u001b[38;5;241m.\u001b[39mformat(\n\u001b[0;32m     96\u001b[0m             type_true, type_pred\n\u001b[0;32m     97\u001b[0m         )\n\u001b[0;32m     98\u001b[0m     )\n\u001b[0;32m    100\u001b[0m \u001b[38;5;66;03m# We can't have more than one value on y_type => The set is no more needed\u001b[39;00m\n\u001b[0;32m    101\u001b[0m y_type \u001b[38;5;241m=\u001b[39m y_type\u001b[38;5;241m.\u001b[39mpop()\n",
      "\u001b[1;31mValueError\u001b[0m: Classification metrics can't handle a mix of multiclass and continuous targets"
     ]
    }
   ],
   "source": [
    "# Dividimos los datos en conjuntos de entrenamiento y prueba\n",
    "X_train, X_test, y_train_age, y_test_age = train_test_split(X, y_age, test_size=0.3, random_state=42)\n",
    "\n",
    "# Entrenamos un RandomForestRegressor\n",
    "rf_age = RandomForestRegressor(n_estimators=100, random_state=42)\n",
    "rf_age.fit(X_train, y_train_age)\n",
    "\n",
    "# Realizamos predicciones\n",
    "y_pred_age = rf_age.predict(X_test)\n",
    "\n",
    "# Evaluamos el modelo\n",
    "mse = mean_squared_error(y_test_age, y_pred_age)\n",
    "print(f\"Mean Squared Error for Age Prediction: {mse}\")"
   ]
  },
  {
   "cell_type": "code",
   "execution_count": null,
   "id": "6a624d06-f07f-4fee-9c60-9544f0192cf4",
   "metadata": {},
   "outputs": [],
   "source": []
  }
 ],
 "metadata": {
  "kernelspec": {
   "display_name": "Python 3 (ipykernel)",
   "language": "python",
   "name": "python3"
  },
  "language_info": {
   "codemirror_mode": {
    "name": "ipython",
    "version": 3
   },
   "file_extension": ".py",
   "mimetype": "text/x-python",
   "name": "python",
   "nbconvert_exporter": "python",
   "pygments_lexer": "ipython3",
   "version": "3.11.9"
  }
 },
 "nbformat": 4,
 "nbformat_minor": 5
}
