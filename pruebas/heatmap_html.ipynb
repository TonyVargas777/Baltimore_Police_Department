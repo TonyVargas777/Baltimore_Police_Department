{
 "cells": [
  {
   "cell_type": "code",
   "execution_count": null,
   "id": "7e8cbbce-f5a0-4689-846c-4138f768f80b",
   "metadata": {
    "tags": []
   },
   "outputs": [],
   "source": []
  },
  {
   "cell_type": "code",
   "execution_count": 2,
   "id": "ab1fb899-649a-4e48-96d7-44d34365edb6",
   "metadata": {
    "tags": []
   },
   "outputs": [],
   "source": [
    "import pandas as pd\n",
    "import folium\n",
    "from folium.plugins import HeatMap\n",
    "\n",
    "# Cargar los datos de arrestos\n",
    "df_arrests = pd.read_csv('BPD_Arrests.csv')"
   ]
  },
  {
   "cell_type": "code",
   "execution_count": 3,
   "id": "9620edc8",
   "metadata": {
    "tags": []
   },
   "outputs": [
    {
     "name": "stdout",
     "output_type": "stream",
     "text": [
      "       Arrest   Age Sex Race  ArrestDate ArrestTime    ArrestLocation  \\\n",
      "0  16160529.0  54.0   M    B  11/12/2016      22:35   3500 PELHAM AVE   \n",
      "1  16160490.0  22.0   M    B  11/12/2016      21:49  300 S LOUDON AVE   \n",
      "2  16160487.0  31.0   M    B  11/12/2016      21:40               NaN   \n",
      "3  16160485.0  31.0   M    B  11/12/2016      20:30               NaN   \n",
      "4  16160481.0  33.0   M    B  11/12/2016      19:45               NaN   \n",
      "\n",
      "    IncidentOffense  IncidentLocation  Charge          ChargeDescription  \\\n",
      "0  4ECOMMON ASSAULT   3500 PELHAM AVE  1 1415             COMMON ASSAULT   \n",
      "1   Unknown Offense  300 S LOUDON AVE  4 3550                 POSSESSION   \n",
      "2   Unknown Offense               NaN  1 0077          FAILURE TO APPEAR   \n",
      "3   Unknown Offense               NaN  1 0077          FAILURE TO APPEAR   \n",
      "4   Unknown Offense               NaN  2 0480  MOTOR VEH/UNLAWFUL TAKING   \n",
      "\n",
      "       District   Post   Neighborhood                       Location 1  \n",
      "0  Northeastern  432.0  Belair-Edison  (39.3208685519, -76.5652449141)  \n",
      "1  Southwestern  833.0      Irvington  (39.2811486601, -76.6821278085)  \n",
      "2           NaN    NaN            NaN                              NaN  \n",
      "3           NaN    NaN            NaN                              NaN  \n",
      "4           NaN    NaN            NaN                              NaN  \n",
      "Index(['Arrest', 'Age', 'Sex', 'Race', 'ArrestDate', 'ArrestTime',\n",
      "       'ArrestLocation', 'IncidentOffense', 'IncidentLocation', 'Charge',\n",
      "       'ChargeDescription', 'District', 'Post', 'Neighborhood', 'Location 1'],\n",
      "      dtype='object')\n"
     ]
    }
   ],
   "source": [
    "# Verificar las primeras filas para entender el formato\n",
    "print(df_arrests.head())\n",
    "print(df_arrests.columns)"
   ]
  },
  {
   "cell_type": "code",
   "execution_count": 4,
   "id": "370a0a0c",
   "metadata": {
    "tags": []
   },
   "outputs": [],
   "source": [
    "# Extraer latitud y longitud de la columna \"Location 1\"\n",
    "# Eliminar posibles valores nulos antes de la operación\n",
    "df_arrests['Location 1'] = df_arrests['Location 1'].dropna()\n",
    "df_arrests[['Latitude', 'Longitude']] = df_arrests['Location 1'].str.extract(r'\\(([^,]+),\\s*([^)]+)\\)')\n"
   ]
  },
  {
   "cell_type": "code",
   "execution_count": 5,
   "id": "93df2439",
   "metadata": {
    "tags": []
   },
   "outputs": [],
   "source": [
    "# Convertir a tipo float\n",
    "df_arrests['Latitude'] = df_arrests['Latitude'].astype(float)\n",
    "df_arrests['Longitude'] = df_arrests['Longitude'].astype(float)"
   ]
  },
  {
   "cell_type": "code",
   "execution_count": 6,
   "id": "6c74003f",
   "metadata": {
    "tags": []
   },
   "outputs": [],
   "source": [
    "# Asegúrate de que no queden valores nulos en las nuevas columnas\n",
    "df_arrests = df_arrests.dropna(subset=['Latitude', 'Longitude'])"
   ]
  },
  {
   "cell_type": "code",
   "execution_count": 7,
   "id": "9e3f86e6-fd91-41d5-929f-a9f5d27ddaba",
   "metadata": {
    "tags": []
   },
   "outputs": [],
   "source": [
    "# Crear el mapa centrado en Baltimore\n",
    "baltimore_map = folium.Map(location=[39.2904, -76.6122], zoom_start=12)"
   ]
  },
  {
   "cell_type": "code",
   "execution_count": 8,
   "id": "5cc3d101-081a-4bb0-a99b-7148bae3e842",
   "metadata": {
    "tags": []
   },
   "outputs": [
    {
     "data": {
      "text/plain": [
       "<folium.plugins.heat_map.HeatMap at 0x20e4714b910>"
      ]
     },
     "execution_count": 8,
     "metadata": {},
     "output_type": "execute_result"
    }
   ],
   "source": [
    "# Agregar un mapa de calor\n",
    "heat_data = [[row['Latitude'], row['Longitude']] for index, row in df_arrests.iterrows()]\n",
    "HeatMap(heat_data).add_to(baltimore_map)"
   ]
  },
  {
   "cell_type": "code",
   "execution_count": 9,
   "id": "d114269c-f860-4bd2-a2df-22336d80865c",
   "metadata": {
    "tags": []
   },
   "outputs": [],
   "source": [
    "# Guardar el mapa en un archivo HTML\n",
    "baltimore_map.save('baltimore_heatmap.html')"
   ]
  },
  {
   "cell_type": "code",
   "execution_count": null,
   "id": "c92760f0-32a0-4c5f-b244-c78fa3cb8608",
   "metadata": {
    "tags": []
   },
   "outputs": [],
   "source": []
  },
  {
   "cell_type": "code",
   "execution_count": null,
   "id": "6089ccef",
   "metadata": {},
   "outputs": [],
   "source": []
  }
 ],
 "metadata": {
  "kernelspec": {
   "display_name": "Python 3 (ipykernel)",
   "language": "python",
   "name": "python3"
  },
  "language_info": {
   "codemirror_mode": {
    "name": "ipython",
    "version": 3
   },
   "file_extension": ".py",
   "mimetype": "text/x-python",
   "name": "python",
   "nbconvert_exporter": "python",
   "pygments_lexer": "ipython3",
   "version": "3.11.9"
  }
 },
 "nbformat": 4,
 "nbformat_minor": 5
}
