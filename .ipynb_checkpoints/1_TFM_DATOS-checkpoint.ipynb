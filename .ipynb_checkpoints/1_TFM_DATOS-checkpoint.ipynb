{
 "cells": [
  {
   "cell_type": "markdown",
   "id": "4b6a0a0f-048e-4cce-88d4-63c567767137",
   "metadata": {
    "tags": []
   },
   "source": [
    "<table><tr>\n",
    "<td> <img src=https://www.baltimorepolice.org/themes/custom/bpd/images/bpd_logo.png alt=\"Drawing\" style=\"height: 250px;\"/> </td>\n",
    "<td> <img src=https://beam-images.warnermediacdn.com/BEAM_LWM_DELIVERABLES/1bc3aff5-0d6a-4c0b-8ed0-5716ca30ab3b/fbbc7a604f327cfa8a7bbe614a89be13a246d266.jpg?host=wbd-images.prod-vod.h264.io&partner=beamcom style=\"height: 250px;\"/> </td>\n",
    "</tr></table>"
   ]
  },
  {
   "cell_type": "markdown",
   "id": "1615735c-e758-409f-aefc-8c4b6b353990",
   "metadata": {},
   "source": [
    "ARRESTOS DE LA POLICIA DE BALTIMORE (2013-2016)\n",
    "="
   ]
  },
  {
   "cell_type": "markdown",
   "id": "ce94c900-8b3f-424d-9ff9-2bc11b6e2496",
   "metadata": {},
   "source": [
    "En este proyecto analizaremos las detenciones en Baltimore para identificar patrones y predecir el cargo de una detención basándose en características como la edad, sexo, raza, ubicación y fecha del arresto."
   ]
  },
  {
   "cell_type": "markdown",
   "id": "f0a2df59-6859-4286-98b8-55fcc0b26ea9",
   "metadata": {},
   "source": [
    "OBJETIVOS\n",
    "=\n",
    "    - Identificar las características más influyentes en el cargo de una detención.\n",
    "    - Construir un modelo predictivo que pueda predecir el cargo de una detención.\n",
    "    - Analizar estos datos puede ayudar a entender los patrones de detenciones y mejorar las estrategias de seguridad pública."
   ]
  },
  {
   "cell_type": "code",
   "execution_count": 5,
   "id": "db5a384a-95c7-49dc-9c83-0b23abf2c52d",
   "metadata": {
    "tags": []
   },
   "outputs": [],
   "source": [
    "import pandas as pd\n",
    "import numpy as np"
   ]
  },
  {
   "cell_type": "code",
   "execution_count": 6,
   "id": "7d5603ab-1941-413b-a0f9-5d9c8530ce9a",
   "metadata": {
    "tags": []
   },
   "outputs": [],
   "source": [
    "df = pd.read_csv('BPD_Arrests.csv')"
   ]
  },
  {
   "cell_type": "code",
   "execution_count": 7,
   "id": "02ff5119-52f7-4a07-896d-2885be8f8052",
   "metadata": {
    "tags": []
   },
   "outputs": [
    {
     "data": {
      "text/html": [
       "<div>\n",
       "<style scoped>\n",
       "    .dataframe tbody tr th:only-of-type {\n",
       "        vertical-align: middle;\n",
       "    }\n",
       "\n",
       "    .dataframe tbody tr th {\n",
       "        vertical-align: top;\n",
       "    }\n",
       "\n",
       "    .dataframe thead th {\n",
       "        text-align: right;\n",
       "    }\n",
       "</style>\n",
       "<table border=\"1\" class=\"dataframe\">\n",
       "  <thead>\n",
       "    <tr style=\"text-align: right;\">\n",
       "      <th></th>\n",
       "      <th>Arrest</th>\n",
       "      <th>Age</th>\n",
       "      <th>Sex</th>\n",
       "      <th>Race</th>\n",
       "      <th>ArrestDate</th>\n",
       "      <th>ArrestTime</th>\n",
       "      <th>ArrestLocation</th>\n",
       "      <th>IncidentOffense</th>\n",
       "      <th>IncidentLocation</th>\n",
       "      <th>Charge</th>\n",
       "      <th>ChargeDescription</th>\n",
       "      <th>District</th>\n",
       "      <th>Post</th>\n",
       "      <th>Neighborhood</th>\n",
       "      <th>Location 1</th>\n",
       "    </tr>\n",
       "  </thead>\n",
       "  <tbody>\n",
       "    <tr>\n",
       "      <th>0</th>\n",
       "      <td>16160529.0</td>\n",
       "      <td>54.0</td>\n",
       "      <td>M</td>\n",
       "      <td>B</td>\n",
       "      <td>11/12/2016</td>\n",
       "      <td>22:35</td>\n",
       "      <td>3500 PELHAM AVE</td>\n",
       "      <td>4ECOMMON ASSAULT</td>\n",
       "      <td>3500 PELHAM AVE</td>\n",
       "      <td>1 1415</td>\n",
       "      <td>COMMON ASSAULT</td>\n",
       "      <td>Northeastern</td>\n",
       "      <td>432.0</td>\n",
       "      <td>Belair-Edison</td>\n",
       "      <td>(39.3208685519, -76.5652449141)</td>\n",
       "    </tr>\n",
       "    <tr>\n",
       "      <th>1</th>\n",
       "      <td>16160490.0</td>\n",
       "      <td>22.0</td>\n",
       "      <td>M</td>\n",
       "      <td>B</td>\n",
       "      <td>11/12/2016</td>\n",
       "      <td>21:49</td>\n",
       "      <td>300 S LOUDON AVE</td>\n",
       "      <td>Unknown Offense</td>\n",
       "      <td>300 S LOUDON AVE</td>\n",
       "      <td>4 3550</td>\n",
       "      <td>POSSESSION</td>\n",
       "      <td>Southwestern</td>\n",
       "      <td>833.0</td>\n",
       "      <td>Irvington</td>\n",
       "      <td>(39.2811486601, -76.6821278085)</td>\n",
       "    </tr>\n",
       "    <tr>\n",
       "      <th>2</th>\n",
       "      <td>16160487.0</td>\n",
       "      <td>31.0</td>\n",
       "      <td>M</td>\n",
       "      <td>B</td>\n",
       "      <td>11/12/2016</td>\n",
       "      <td>21:40</td>\n",
       "      <td>NaN</td>\n",
       "      <td>Unknown Offense</td>\n",
       "      <td>NaN</td>\n",
       "      <td>1 0077</td>\n",
       "      <td>FAILURE TO APPEAR</td>\n",
       "      <td>NaN</td>\n",
       "      <td>NaN</td>\n",
       "      <td>NaN</td>\n",
       "      <td>NaN</td>\n",
       "    </tr>\n",
       "    <tr>\n",
       "      <th>3</th>\n",
       "      <td>16160485.0</td>\n",
       "      <td>31.0</td>\n",
       "      <td>M</td>\n",
       "      <td>B</td>\n",
       "      <td>11/12/2016</td>\n",
       "      <td>20:30</td>\n",
       "      <td>NaN</td>\n",
       "      <td>Unknown Offense</td>\n",
       "      <td>NaN</td>\n",
       "      <td>1 0077</td>\n",
       "      <td>FAILURE TO APPEAR</td>\n",
       "      <td>NaN</td>\n",
       "      <td>NaN</td>\n",
       "      <td>NaN</td>\n",
       "      <td>NaN</td>\n",
       "    </tr>\n",
       "    <tr>\n",
       "      <th>4</th>\n",
       "      <td>16160481.0</td>\n",
       "      <td>33.0</td>\n",
       "      <td>M</td>\n",
       "      <td>B</td>\n",
       "      <td>11/12/2016</td>\n",
       "      <td>19:45</td>\n",
       "      <td>NaN</td>\n",
       "      <td>Unknown Offense</td>\n",
       "      <td>NaN</td>\n",
       "      <td>2 0480</td>\n",
       "      <td>MOTOR VEH/UNLAWFUL TAKING</td>\n",
       "      <td>NaN</td>\n",
       "      <td>NaN</td>\n",
       "      <td>NaN</td>\n",
       "      <td>NaN</td>\n",
       "    </tr>\n",
       "  </tbody>\n",
       "</table>\n",
       "</div>"
      ],
      "text/plain": [
       "       Arrest   Age Sex Race  ArrestDate ArrestTime    ArrestLocation  \\\n",
       "0  16160529.0  54.0   M    B  11/12/2016      22:35   3500 PELHAM AVE   \n",
       "1  16160490.0  22.0   M    B  11/12/2016      21:49  300 S LOUDON AVE   \n",
       "2  16160487.0  31.0   M    B  11/12/2016      21:40               NaN   \n",
       "3  16160485.0  31.0   M    B  11/12/2016      20:30               NaN   \n",
       "4  16160481.0  33.0   M    B  11/12/2016      19:45               NaN   \n",
       "\n",
       "    IncidentOffense  IncidentLocation  Charge          ChargeDescription  \\\n",
       "0  4ECOMMON ASSAULT   3500 PELHAM AVE  1 1415             COMMON ASSAULT   \n",
       "1   Unknown Offense  300 S LOUDON AVE  4 3550                 POSSESSION   \n",
       "2   Unknown Offense               NaN  1 0077          FAILURE TO APPEAR   \n",
       "3   Unknown Offense               NaN  1 0077          FAILURE TO APPEAR   \n",
       "4   Unknown Offense               NaN  2 0480  MOTOR VEH/UNLAWFUL TAKING   \n",
       "\n",
       "       District   Post   Neighborhood                       Location 1  \n",
       "0  Northeastern  432.0  Belair-Edison  (39.3208685519, -76.5652449141)  \n",
       "1  Southwestern  833.0      Irvington  (39.2811486601, -76.6821278085)  \n",
       "2           NaN    NaN            NaN                              NaN  \n",
       "3           NaN    NaN            NaN                              NaN  \n",
       "4           NaN    NaN            NaN                              NaN  "
      ]
     },
     "execution_count": 7,
     "metadata": {},
     "output_type": "execute_result"
    }
   ],
   "source": [
    "df.head()"
   ]
  },
  {
   "cell_type": "code",
   "execution_count": 8,
   "id": "9975989c-238e-4a8d-9930-236e18b7b828",
   "metadata": {
    "tags": []
   },
   "outputs": [
    {
     "name": "stdout",
     "output_type": "stream",
     "text": [
      "<class 'pandas.core.frame.DataFrame'>\n",
      "RangeIndex: 130713 entries, 0 to 130712\n",
      "Data columns (total 15 columns):\n",
      " #   Column             Non-Null Count   Dtype  \n",
      "---  ------             --------------   -----  \n",
      " 0   Arrest             123699 non-null  float64\n",
      " 1   Age                130685 non-null  float64\n",
      " 2   Sex                130713 non-null  object \n",
      " 3   Race               130713 non-null  object \n",
      " 4   ArrestDate         130713 non-null  object \n",
      " 5   ArrestTime         130713 non-null  object \n",
      " 6   ArrestLocation     78595 non-null   object \n",
      " 7   IncidentOffense    130713 non-null  object \n",
      " 8   IncidentLocation   76987 non-null   object \n",
      " 9   Charge             114255 non-null  object \n",
      " 10  ChargeDescription  130211 non-null  object \n",
      " 11  District           78601 non-null   object \n",
      " 12  Post               78583 non-null   float64\n",
      " 13  Neighborhood       78595 non-null   object \n",
      " 14  Location 1         78666 non-null   object \n",
      "dtypes: float64(3), object(12)\n",
      "memory usage: 15.0+ MB\n"
     ]
    }
   ],
   "source": [
    "df.info()"
   ]
  },
  {
   "cell_type": "markdown",
   "id": "cd5fb631-5878-4469-820a-d5ad013b8781",
   "metadata": {},
   "source": [
    "COMENTARIOS DEL DATASET\n",
    "=======================\n",
    "- La fuente del dataset es el propio Departamento de Policia de Baltimore a través del portal Open Baltimore (https://data.baltimorecity.gov/)\n",
    "- Dataset está compuesto de 15 columnas y más de 130.000 filas.\n",
    "- Recopila datos sobre arrestos en Baltimore de 2013 a 2016 (hasta 12 de noviembre de 2016).\n",
    "- 4 grupos de datos:\n",
    "    (1) Edad, sexo, raza de los detenidos. \n",
    "    (2) Fecha y hora.\n",
    "    (3) Lugar de las detenciones.\n",
    "    (4) Delito cometido.\n",
    "- Tras el análisis exploratorio de datos (EDA) de las 130.000 filas pasaremos a tener 78.000 para realizar las Visualizaciones y el Análisis y modelamiento de datos. (60%)"
   ]
  },
  {
   "cell_type": "markdown",
   "id": "863851e4-67ab-44a7-bc46-2032c9244315",
   "metadata": {},
   "source": [
    "MANIPULACIÓN DEL DATASET\n",
    "="
   ]
  },
  {
   "cell_type": "markdown",
   "id": "a7e02699-bc17-4919-b7eb-b4976d0f3b56",
   "metadata": {},
   "source": [
    "La columna 'ArrestDate' está en formato (22/05/2016) (M/D/A) --> Pasaremos a tener tres columnas: 'Year', 'Month' y 'DayOfWeek'"
   ]
  },
  {
   "cell_type": "code",
   "execution_count": 12,
   "id": "2626aec2-0954-4ae5-bdee-c7b3271332b9",
   "metadata": {
    "tags": []
   },
   "outputs": [],
   "source": [
    "# Convertir la columna 'ArrestDate' a tipo datetime\n",
    "df['ArrestDate'] = pd.to_datetime(df['ArrestDate'])\n",
    "\n",
    "# Crear columnas adicionales para el análisis\n",
    "df['Year'] = df['ArrestDate'].dt.year\n",
    "df['Month'] = df['ArrestDate'].dt.month\n",
    "df['DayOfWeek'] = df['ArrestDate'].dt.dayofweek"
   ]
  },
  {
   "cell_type": "markdown",
   "id": "244d499a-fee8-42c7-b89a-1782766e6991",
   "metadata": {},
   "source": [
    "La columna 'ArrestTime' está en formato (22:53) (HH:MM) --> Pasaremos a tener la columna 'Hour' con un float solo de la hora (22.0)"
   ]
  },
  {
   "cell_type": "code",
   "execution_count": 14,
   "id": "5e20614f-fa62-428e-9cfa-2c3194f176fd",
   "metadata": {
    "tags": []
   },
   "outputs": [],
   "source": [
    "# Crear la Columna Hour\n",
    "# 'ArrestTime' es de tipo string\n",
    "df['ArrestTime'] = df['ArrestTime'].astype(str)\n",
    "\n",
    "# Función para manejar los valores incorrectos\n",
    "def extract_hour(time_str):\n",
    "    try:\n",
    "        return pd.to_datetime(time_str, format='%H:%M').hour\n",
    "    except ValueError:\n",
    "        return None\n",
    "\n",
    "# Aplicar la función a la columna 'ArrestTime'\n",
    "df['Hour'] = df['ArrestTime'].apply(extract_hour)"
   ]
  },
  {
   "cell_type": "markdown",
   "id": "1324d24c-63fb-43c7-8883-a0805f20bb26",
   "metadata": {},
   "source": [
    "La columna 'IncidentOffense' tiene 120 tipologías de delitos diferentes, además, tiene repeticiones con errores ortográficos, mayúsculas/minúsculas y faltas de guiones o puntos por lo que salían 247 tipologías.\n",
    "- '23-UNAUTHORIZED US'\n",
    "- '23-UNAUTHORIZED USE'\n",
    "- '23UNAUTHORIZED USE'\n",
    "\n",
    "Tras crear un diccionario y mapear todas las opciones se crea la columna 'OffenseCategory' y se pasa de 247 a 24 tipologías"
   ]
  },
  {
   "cell_type": "code",
   "execution_count": 16,
   "id": "26fbd6dd-6936-49e6-a6f8-1263c3c622ed",
   "metadata": {
    "tags": []
   },
   "outputs": [],
   "source": [
    "# Crear un diccionario para mapear los delitos a las nuevas categorías\n",
    "category_mapping = {\n",
    "'102-QUESTIONAL DEATH': 'Violent Crimes',\n",
    "'103-DEAD ON ARRIVAL': 'Violent Crimes',\n",
    "'105-SUSPICIOUS BURNING': 'Violent Crimes',\n",
    "'106-CUSTODY DISPUTE': 'Violent Crimes',\n",
    "'107-DRUNKENNESS': 'Violent Crimes',\n",
    "'108-LIQUOR LAW/OPEN CONTA': 'Alcohol Violations',\n",
    "'108-LIQUOR LAW/OPEN CONTAIN': 'Alcohol Violations',\n",
    "'108-LIQUOR LAW/OPEN CONTAINE': 'Alcohol Violations',\n",
    "'109-LOITERING': 'Public Order Crimes',\n",
    "'110-SUMMONS SERVED': 'Administrative',\n",
    "'111-PROTECTIVE ORD': 'Domestic Crimes',\n",
    "'111-PROTECTIVE ORDER': 'Domestic Crimes',\n",
    "'112-TRAFFIC RELATE': 'Traffic Violations',\n",
    "'112-TRAFFIC RELATED INCID': 'Traffic Violations',\n",
    "'112-TRAFFIC RELATED INCIDEN': 'Traffic Violations',\n",
    "'112-TRAFFIC RELATED INCIDENT': 'Traffic Violations',\n",
    "'113-LITTERING': 'Environmental Violations',\n",
    "'114-HINDERING': 'Obstruction of Justice',\n",
    "'115-TRESPASSING': 'Property Crimes',\n",
    "'115TRESPASSING': 'Property Crimes',\n",
    "'116-PUBLIC URINATION / DEFE': 'Public Order Crimes',\n",
    "'116-PUBLIC URINATION / DEFEC': 'Public Order Crimes',\n",
    "'117-FTO': 'Administrative',\n",
    "'117FTO': 'Administrative',\n",
    "'118-BURGLARY - FOURTH DEG': 'Property Crimes',\n",
    "'118-BURGLARY - FOURTH DEGRE': 'Property Crimes',\n",
    "'118-BURGLARY - FOURTH DEGREE': 'Property Crimes',\n",
    "'118BURGLARY - FOURTH DEGREE': 'Property Crimes',\n",
    "'119-ISSUED IN ERROR': 'Administrative',\n",
    "'119ISSUED IN ERROR': 'Administrative',\n",
    "'1A-MURDER': 'Violent Crimes',\n",
    "'1AMURDER': 'Violent Crimes',\n",
    "'20A-FOLLOWUP': 'Investigations',\n",
    "'20H-TRAFFIC CONTROL': 'Traffic Violations',\n",
    "'23-UNAUTHORIZED US': 'Property Crimes',\n",
    "'23-UNAUTHORIZED USE': 'Property Crimes',\n",
    "'23UNAUTHORIZED USE': 'Property Crimes',\n",
    "'24P-TOWED VEHICLE - PRIVATE': 'Traffic Violations',\n",
    "'24TOWED VEHICLE': 'Traffic Violations',\n",
    "'26-RECOVERED VEHICLE': 'Property Crimes',\n",
    "'26RECOVERED VEHICLE': 'Property Crimes',\n",
    "'29-DRIVING WHILE INTOXICATED': 'Traffic Violations',\n",
    "'2A-RAPE (FORCE)': 'Sex Crimes',\n",
    "'2ARAPE (FORCE)': 'Sex Crimes',\n",
    "'2B-RAPE (ATTEMPT)': 'Sex Crimes',\n",
    "'2C-CARNAL KNOWLEDGE': 'Sex Crimes',\n",
    "'2D-STATUTORY RAPE': 'Sex Crimes',\n",
    "'2F-PLACING HANDS': 'Sex Crimes',\n",
    "'2FPLACING HANDS': 'Sex Crimes',\n",
    "'2G-SODOMY/PERVERSON': 'Sex Crimes',\n",
    "'2H-INDECENT EXP.': 'Sex Crimes',\n",
    "'OTHER SEX OFFN.': 'Sex Crimes',\n",
    "'33-PARKING COMPLAINT': 'Traffic Violations',\n",
    "'39-FIRE': 'Fire Incidents',\n",
    "'33AF-ROBB HWY-FIREARM': 'Robbery',\n",
    "'3AFROBB HWY-FIREARM': 'Robbery',\n",
    "'3AJF-ROBB CARJACK-FIREARM': 'Robbery',\n",
    "'3AJFROBB CARJACK-FIREARM': 'Robbery',\n",
    "'3AJK-ROBB CARJACK-KNIFE': 'Robbery',\n",
    "'3AJO-ROBB CARJACK-OTHER WPN': 'Robbery',\n",
    "'3AJOROBB CARJACK-OTHER WPN': 'Robbery',\n",
    "'3AK-ROBB HWY-KNIFE': 'Robbery',\n",
    "'3AKROBB HWY-KNIFE': 'Robbery',\n",
    "'3AO-ROBB HWY-OTHER WPN': 'Robbery',\n",
    "'3AOROBB HWY-OTHER WPN': 'Robbery',\n",
    "'3B-ROBB HIGHWAY (UA)': 'Robbery',\n",
    "'3BJ-ROBB CARJACK(UA)': 'Robbery',\n",
    "'3BJROBB CARJACK(UA)': 'Robbery',\n",
    "'3BROBB HIGHWAY (UA)': 'Robbery',\n",
    "'3CF-ROBB COMM-FIREARM': 'Robbery',\n",
    "'3CFROBB COMM-FIREARM': 'Robbery',\n",
    "'3CK-ROBB COMM-KNIFE': 'Robbery',\n",
    "'3CKROBB COMM-KNIFE': 'Robbery',\n",
    "'3CO-ROBB COMM-OTHER WPN': 'Robbery',\n",
    "'3COROBB COMM-OTHER WPN': 'Robbery',\n",
    "'3D-ROBB COMM. (UA)': 'Robbery',\n",
    "'3DROBB COMM. (UA)': 'Robbery',\n",
    "'3EK-ROBB GAS STATION-KNIFE': 'Robbery',\n",
    "'3EO-ROBB GAS STATION-OTHER W': 'Robbery',\n",
    "'3F-ROBB GAS STA. (UA)': 'Robbery',\n",
    "'3GF-ROBB CONV STORE-FIREARM': 'Robbery',\n",
    "'3GO-ROBB CONV STORE-OTHER WP': 'Robbery',\n",
    "'3H-ROBB CONV. STOR.(UA)': 'Robbery',\n",
    "'3HROBB CONV. STOR.(UA)': 'Robbery',\n",
    "'3JF-ROBB RESIDENCE-FIRE': 'Robbery',\n",
    "'3JF-ROBB RESIDENCE-FIREARM': 'Robbery',\n",
    "'3JFROBB RESIDENCE-FIREARM': 'Robbery',\n",
    "'3JK-ROBB RESIDENCE-KNIFE': 'Robbery',\n",
    "'3JKROBB RESIDENCE-KNIFE': 'Robbery',\n",
    "'3JO-ROBB RESIDENCE-OTHER WPN': 'Robbery',\n",
    "'3JOROBB RESIDENCE-OTHER WPN': 'Robbery',\n",
    "'3K-ROBB RES. (UA)': 'Robbery',\n",
    "'3KROBB RES. (UA)': 'Robbery',\n",
    "'3LF-ROBB BANK-FIREARM': 'Robbery',\n",
    "'3LO-ROBB BANK-OTHER WPN': 'Robbery',\n",
    "'3M-ROBB BANK (UA)': 'Robbery',\n",
    "'3NF-ROBB MISC-FIREARM': 'Robbery',\n",
    "'3NFROBB MISC-FIREARM': 'Robbery',\n",
    "'3NK-ROBB MISC-KNIFE': 'Robbery',\n",
    "'3NO-ROBB MISC-OTHER WPN': 'Robbery',\n",
    "'3NOROBB MISC-OTHER WPN': 'Robbery',\n",
    "'3P-ROBB MISC. (UA)': 'Robbery',\n",
    "'3PROBB MISC. (UA)': 'Robbery',\n",
    "'41-HUMAN TRAFFICKING': 'Human Trafficking',\n",
    "'48-INVOLUNTARY DETENTIO': 'Administrative',\n",
    "'48-INVOLUNTARY DETENTION': 'Administrative',\n",
    "'49-FAMILY DISTURBA': 'Domestic Crimes',\n",
    "'49-FAMILY DISTURBANCE': 'Domestic Crimes',\n",
    "'49FAMILY DISTURBANCE': 'Domestic Crimes',\n",
    "'4A-AGG. ASSLT.- GU': 'Violent Crimes',\n",
    "'4A-AGG. ASSLT.- GUN': 'Violent Crimes',\n",
    "'4AAGG. ASSLT.- GUN': 'Violent Crimes',\n",
    "'4B-AGG. ASSLT.- CU': 'Violent Crimes',\n",
    "'4B-AGG. ASSLT.- CUT': 'Violent Crimes',\n",
    "'4BAGG. ASSLT.- CUT': 'Violent Crimes',\n",
    "'4C-AGG. ASSLT.- OT': 'Violent Crimes',\n",
    "'4C-AGG. ASSLT.- OTH.': 'Violent Crimes',\n",
    "'4CAGG. ASSLT.- OTH.': 'Violent Crimes',\n",
    "'4D-AGG. ASSLT.- HA': 'Violent Crimes',\n",
    "'4D-AGG. ASSLT.- HAND': 'Violent Crimes',\n",
    "'4DAGG. ASSLT.- HAND': 'Violent Crimes',\n",
    "'4E-COMMON ASSAULT': 'Violent Crimes',\n",
    "'4ECOMMON ASSAULT': 'Violent Crimes',    \n",
    "'4F-ASSAULT BY THRE': 'Violent Crimes',\n",
    "'4F-ASSAULT BY THREAT': 'Violent Crimes',\n",
    "'4FASSAULT BY THREAT': 'Violent Crimes',\n",
    "'52A-ANIMAL CRUELTY': 'Animal Crimes',\n",
    "'54-ARMED PERSON': 'Weapons Violations',\n",
    "'54ARMED PERSON': 'Weapons Violations',\n",
    "'55-DISORDERLY PERSON': 'Public Order Crimes',\n",
    "'55DISORDERLY PERSON': 'Public Order Crimes',\n",
    "'55A-PROSTITUTION': 'Sex Crimes',\n",
    "'56-MISSING PERSON': 'Investigations',\n",
    "'58-INJURED PERSON': 'Medical Emergencies',\n",
    "'58INJURED PERSON': 'Medical Emergencies',\n",
    "'59-INTOXICATED PERSON': 'Public Order Crimes',\n",
    "'5A-BURG. RES. (FOR': 'Property Crimes',\n",
    "'5A-BURG. RES. (FORCE)': 'Property Crimes',\n",
    "'5ABURG. RES. (FORCE)': 'Property Crimes',\n",
    "'5B-BURG. RES. (ATT': 'Property Crimes',\n",
    "'5B-BURG. RES. (ATT.)': 'Property Crimes',\n",
    "'5BBURG. RES. (ATT.)': 'Property Crimes',    \n",
    "'5C-BURG. RES. (NOFORCE)': 'Property Crimes',\n",
    "'5CBURG. RES. (NOFORCE)': 'Property Crimes',\n",
    "'5D-BURG. OTH. (FORCE)': 'Property Crimes',\n",
    "'5DBURG. OTH. (FORCE)': 'Property Crimes',\n",
    "'5E-BURG. OTH. (ATT.)': 'Property Crimes',\n",
    "'5F-BURG. OTH. (NOFORCE)': 'Property Crimes',\n",
    "'61-PERSON WANTED ON WAR': 'Administrative',\n",
    "'61PERSON WANTED ON WAR': 'Administrative',\n",
    "'67-CHILD ABUSE-PHYSICAL': 'Child Abuse',\n",
    "'67CHILD ABUSE-PHYSICAL': 'Child Abuse',\n",
    "'6A-LARCENY-PICKPOCKET': 'Property Crimes',\n",
    "'6B-LARCENY- PURSE SNATC': 'Property Crimes',\n",
    "'6B-LARCENY- PURSE SNATCH': 'Property Crimes',\n",
    "'6BLARCENY- PURSE SNATCH': 'Property Crimes',\n",
    "'6C-LARCENY- SHOPLI': 'Property Crimes',\n",
    "'6C-LARCENY- SHOPLIFTING': 'Property Crimes',\n",
    "'6CLARCENY- SHOPLIFTING': 'Property Crimes',\n",
    "'6D-LARCENY- FROM AUTO': 'Property Crimes',\n",
    "'6DLARCENY- FROM AUTO': 'Property Crimes',\n",
    "'6E-LARCENY- AUTO ACC': 'Property Crimes',\n",
    "'6ELARCENY- AUTO ACC': 'Property Crimes',\n",
    "'6F-LARCENY- BICYCLE': 'Property Crimes',\n",
    "'6FLARCENY- BICYCLE': 'Property Crimes',\n",
    "'6G-LARCENY- FROM BLDG.': 'Property Crimes',\n",
    "'6GLARCENY- FROM BLDG.': 'Property Crimes',\n",
    "'6H-LARCENY- FROM MACHINE': 'Property Crimes',\n",
    "'6J-LARCENY- OTHER': 'Property Crimes',\n",
    "'6JLARCENY- OTHER': 'Property Crimes',\n",
    "'6L-LARCENY- FROM LOCKER': 'Property Crimes',\n",
    "'70A-ILL. DUMPING': 'Environmental Violations',\n",
    "'71-SEX OFFENDER RE': 'Sex Crimes',\n",
    "'71-SEX OFFENDER REGISTR': 'Sex Crimes',\n",
    "'71-SEX OFFENDER REGISTRY': 'Sex Crimes',\n",
    "'71SEX OFFENDER REGISTRY': 'Sex Crimes',\n",
    "'73-FALSE PRETENSE': 'Fraud',\n",
    "'75-DESTRUCT. OF PR': 'Property Crimes',\n",
    "'75-DESTRUCT. OF PROPERT': 'Property Crimes',\n",
    "'75-DESTRUCT. OF PROPERTY': 'Property Crimes',\n",
    "'75DESTRUCT. OF PROPERTY': 'Property Crimes',\n",
    "'76-CHILD ABUSE-SEXUAL': 'Child Abuse',\n",
    "'76CHILD ABUSE-SEXUAL': 'Child Abuse',\n",
    "'77DOG BITE': 'Animal Crimes',\n",
    "'78-GAMBLING': 'Public Order Crimes',\n",
    "'79-OTHER': 'Other',\n",
    "'79OTHER': 'Other',\n",
    "'7A-STOLEN AUTO': 'Property Crimes',\n",
    "'7ASTOLEN AUTO': 'Property Crimes',\n",
    "'7C-STOLEN VEH./OTHER': 'Property Crimes',\n",
    "'7CSTOLEN VEH./OTHER': 'Property Crimes',\n",
    "'80-LOST PROPERTY': 'Property Crimes',\n",
    "'81-RECOVERED PROPERTY': 'Property Crimes',\n",
    "'81RECOVERED PROPERTY': 'Property Crimes',\n",
    "'83-DISCHARGING FIREARM': 'Weapons Violations',\n",
    "'84-BOMB SCARE': 'Threats',\n",
    "'85-MENTAL CASE': 'Mental Health',\n",
    "'85MENTAL CASE': 'Mental Health',\n",
    "'86-SPECIAL CURFEW': 'Administrative',\n",
    "'87-NARCOTICS': 'Drug Offenses',\n",
    "'87NARCOTICS': 'Drug Offenses',\n",
    "'87O-NARCOTICS (OUTSIDE)': 'Drug Offenses',\n",
    "'87VNARCOTICS (ONVIEW)': 'Drug Offenses',\n",
    "'88-UNFOUNDED CALL': 'Administrative',\n",
    "'8AO-ARSON SIN RES': 'Arson',\n",
    "'8AO-ARSON SIN RES STR-OCC': 'Arson',\n",
    "'8BO-ARSON OTH RES STR-OCC': 'Arson',\n",
    "'8EO-ARSON OTH COMM STR-OCC': 'Arson',\n",
    "'8H-ARSON MOTOR VEH': 'Arson',\n",
    "'8J-ARSON OTHER': 'Arson',\n",
    "'93-ABDUCTION - OTHER': 'Violent Crimes',\n",
    "'95-EXPARTE': 'Administrative',\n",
    "'96-INVESTIGATIVE STOP': 'Investigations',\n",
    "'96B-INVESTIGATIVE STOP': 'Investigations',\n",
    "'97-SEARCH & SEIZURE': 'Investigations',\n",
    "'98-CHILD NEGLECT': 'Child Abuse',\n",
    "'98CHILD NEGLECT': 'Child Abuse',\n",
    "'UNKNOWN OFFENSE': 'Other',\n",
    "'Unknown Offense': 'Other'\n",
    "}\n",
    "\n",
    "# Convertir toda la columna IncidentOffense a mayúsculas\n",
    "df['IncidentOffense'] = df['IncidentOffense'].str.upper()\n",
    "\n",
    "# Función para mapear los delitos a las nuevas categorías\n",
    "def map_incident_offense(offense):\n",
    "    for key in category_mapping.keys():\n",
    "        if key == offense:\n",
    "            return category_mapping[key]    \n",
    "    return None\n",
    "\n",
    "# Aplicar la función de mapeo a la columna IncidentOffense\n",
    "df['OffenseCategory'] = df['IncidentOffense'].apply(map_incident_offense)"
   ]
  },
  {
   "cell_type": "markdown",
   "id": "78146217-11a2-45e6-b5f6-08588a21ff34",
   "metadata": {},
   "source": [
    "La columna 'Location 1' viene en formato (39.3208685519, -76.5652449141)\n",
    "\n",
    "Pasará a ser dos columnas 'Latitude' (39.3208685519) y 'Longitude' (-76.5652449141)"
   ]
  },
  {
   "cell_type": "code",
   "execution_count": 18,
   "id": "33257864-ecfd-4fa4-a31a-ae27aedac513",
   "metadata": {
    "tags": []
   },
   "outputs": [],
   "source": [
    "# Extraer latitud y longitud de la columna \"Location 1\"\n",
    "df['Location 1'] = df['Location 1'].dropna()\n",
    "df[['Latitude', 'Longitude']] = df['Location 1'].str.extract(r'\\(([^,]+),\\s*([^)]+)\\)')\n",
    "\n",
    "# Convertir a tipo float\n",
    "df['Latitude'] = df['Latitude'].astype(float)\n",
    "df['Longitude'] = df['Longitude'].astype(float)\n",
    "\n",
    "# Asegúrate de que no queden valores nulos en las nuevas columnas\n",
    "df = df.dropna(subset=['Latitude', 'Longitude'])"
   ]
  },
  {
   "cell_type": "markdown",
   "id": "ad489ffd-3154-4588-834d-ea4bad131088",
   "metadata": {},
   "source": [
    "Borramos las siguientes columnas:\n",
    "- 'Arrest' que es un ID de la detención.\n",
    "- 'ArrestDate' de la que hemos sacado 3 nuevas columnas ('Year', 'Month' y 'DayOfWeek').\n",
    "- 'ArrestTime' de al que hemos sacado otra columna solo con la hora en formato float ('Hour')\n",
    "- De las relacionadas con localizaciones nos quedamos con 'Latitude', 'Longitude' y 'District' el resto se eliminan por información redundante y/o incompleta ('ArrestLocation, IncidentLocation', 'Post', 'Neighborhood', 'Location 1').\n",
    "- De las relacionadas con los hechos delictivos nos quedamos con la columna creada por nosotros 'OffenseCategory' y el resto las eliminamos por información redundante y/o incompleta ('IncidentOffense', 'Charge', 'ChargeDescription')"
   ]
  },
  {
   "cell_type": "code",
   "execution_count": 20,
   "id": "3d3d63e8-b513-4e1e-84bb-89e6eaa50fbf",
   "metadata": {
    "tags": []
   },
   "outputs": [],
   "source": [
    "# Eliminar las columnas especificadas\n",
    "columns_to_drop = [\n",
    "    'Arrest', 'ArrestLocation', 'IncidentLocation', 'IncidentOffense', 'Charge', \n",
    "    'ChargeDescription', 'Post', 'Neighborhood', 'Location 1', 'ArrestDate', 'ArrestTime'\n",
    "]\n",
    "df_cleaned = df.drop(columns=columns_to_drop, errors='ignore')"
   ]
  },
  {
   "cell_type": "markdown",
   "id": "c250a0c7-1bea-43e7-b769-568de2a09c27",
   "metadata": {},
   "source": [
    "Limpieza de datos (Duplicados y NaNs)"
   ]
  },
  {
   "cell_type": "code",
   "execution_count": 22,
   "id": "73532ddc-e946-4b4d-a0eb-fe5d4e2c1b64",
   "metadata": {},
   "outputs": [],
   "source": [
    "df.drop_duplicates(inplace=True)\n",
    "df.dropna(inplace=True)"
   ]
  },
  {
   "cell_type": "markdown",
   "id": "fdb31d77-c8d0-424f-9d04-9526da22409a",
   "metadata": {},
   "source": [
    "Guardar el DataFrame modificado en un nuevo archivo CSV"
   ]
  },
  {
   "cell_type": "code",
   "execution_count": 24,
   "id": "ed1ab9f3-d1db-4215-9efe-27a736a96b57",
   "metadata": {},
   "outputs": [
    {
     "name": "stdout",
     "output_type": "stream",
     "text": [
      "Archivo CSV guardado como 'New_BPD.csv'\n"
     ]
    }
   ],
   "source": [
    "df_cleaned.to_csv('New_BPD.csv', index=False)\n",
    "\n",
    "print(\"Archivo CSV guardado como 'New_BPD.csv'\")"
   ]
  },
  {
   "cell_type": "code",
   "execution_count": 25,
   "id": "d184275d-5a87-41e3-93ae-2269e014be88",
   "metadata": {
    "tags": []
   },
   "outputs": [],
   "source": [
    "df_original = pd.read_csv('BPD_Arrests.csv')"
   ]
  },
  {
   "cell_type": "code",
   "execution_count": 26,
   "id": "9e632d23-d6d9-4f64-ac66-7d7e36027f77",
   "metadata": {
    "tags": []
   },
   "outputs": [],
   "source": [
    "df_2 = pd.read_csv('New_BPD.csv')"
   ]
  },
  {
   "cell_type": "markdown",
   "id": "184f8b9f-5f97-47ed-8f38-cdfcddf4cb70",
   "metadata": {},
   "source": [
    "COMPARATIVA DEL DATASET ORIGINAL CON EL QUE TRABAJAREMOS LAS VISUALIZACIONES Y LAS PREDICCIONES\n",
    "="
   ]
  },
  {
   "cell_type": "code",
   "execution_count": 27,
   "id": "bf8cb4b3-6dd2-47f0-ae21-0bf7d4dd4e7a",
   "metadata": {
    "tags": []
   },
   "outputs": [
    {
     "name": "stdout",
     "output_type": "stream",
     "text": [
      "<class 'pandas.core.frame.DataFrame'>\n",
      "RangeIndex: 130713 entries, 0 to 130712\n",
      "Data columns (total 15 columns):\n",
      " #   Column             Non-Null Count   Dtype  \n",
      "---  ------             --------------   -----  \n",
      " 0   Arrest             123699 non-null  float64\n",
      " 1   Age                130685 non-null  float64\n",
      " 2   Sex                130713 non-null  object \n",
      " 3   Race               130713 non-null  object \n",
      " 4   ArrestDate         130713 non-null  object \n",
      " 5   ArrestTime         130713 non-null  object \n",
      " 6   ArrestLocation     78595 non-null   object \n",
      " 7   IncidentOffense    130713 non-null  object \n",
      " 8   IncidentLocation   76987 non-null   object \n",
      " 9   Charge             114255 non-null  object \n",
      " 10  ChargeDescription  130211 non-null  object \n",
      " 11  District           78601 non-null   object \n",
      " 12  Post               78583 non-null   float64\n",
      " 13  Neighborhood       78595 non-null   object \n",
      " 14  Location 1         78666 non-null   object \n",
      "dtypes: float64(3), object(12)\n",
      "memory usage: 15.0+ MB\n"
     ]
    }
   ],
   "source": [
    "df_original.info()"
   ]
  },
  {
   "cell_type": "code",
   "execution_count": 29,
   "id": "c104d39c-eaca-4375-80c5-b9844f62b71b",
   "metadata": {
    "tags": []
   },
   "outputs": [
    {
     "name": "stdout",
     "output_type": "stream",
     "text": [
      "<class 'pandas.core.frame.DataFrame'>\n",
      "RangeIndex: 78666 entries, 0 to 78665\n",
      "Data columns (total 11 columns):\n",
      " #   Column           Non-Null Count  Dtype  \n",
      "---  ------           --------------  -----  \n",
      " 0   Age              78651 non-null  float64\n",
      " 1   Sex              78666 non-null  object \n",
      " 2   Race             78666 non-null  object \n",
      " 3   District         78599 non-null  object \n",
      " 4   Year             78666 non-null  int64  \n",
      " 5   Month            78666 non-null  int64  \n",
      " 6   DayOfWeek        78666 non-null  int64  \n",
      " 7   Hour             76516 non-null  float64\n",
      " 8   OffenseCategory  76809 non-null  object \n",
      " 9   Latitude         78666 non-null  float64\n",
      " 10  Longitude        78666 non-null  float64\n",
      "dtypes: float64(4), int64(3), object(4)\n",
      "memory usage: 6.6+ MB\n"
     ]
    }
   ],
   "source": [
    "df_2.info()"
   ]
  }
 ],
 "metadata": {
  "kernelspec": {
   "display_name": "Python 3 (ipykernel)",
   "language": "python",
   "name": "python3"
  },
  "language_info": {
   "codemirror_mode": {
    "name": "ipython",
    "version": 3
   },
   "file_extension": ".py",
   "mimetype": "text/x-python",
   "name": "python",
   "nbconvert_exporter": "python",
   "pygments_lexer": "ipython3",
   "version": "3.11.9"
  }
 },
 "nbformat": 4,
 "nbformat_minor": 5
}
